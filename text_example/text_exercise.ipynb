{
 "cells": [
  {
   "cell_type": "markdown",
   "metadata": {
    "collapsed": true
   },
   "source": [
    "# Problem:\n",
    "Count number of times that each of the names in 'names.txt' appears in 'list.txt'\n",
    "\n",
    "Retain the order of names as they appear in 'names.txt'"
   ]
  },
  {
   "cell_type": "markdown",
   "metadata": {},
   "source": [
    "#### --------------------------------"
   ]
  },
  {
   "cell_type": "markdown",
   "metadata": {},
   "source": [
    "# Basic file i/o, & some data exploration"
   ]
  },
  {
   "cell_type": "markdown",
   "metadata": {},
   "source": [
    "#### Basic way to open a file in Python: "
   ]
  },
  {
   "cell_type": "code",
   "execution_count": 1,
   "metadata": {
    "collapsed": true
   },
   "outputs": [],
   "source": [
    "with open('names.txt') as f:\n",
    "    # this reads the contents of the files in as a list, where each line in the file becomes an item in the list\n",
    "    list_of_names = f.readlines() "
   ]
  },
  {
   "cell_type": "code",
   "execution_count": 2,
   "metadata": {
    "collapsed": false,
    "scrolled": true
   },
   "outputs": [
    {
     "data": {
      "text/plain": [
       "['OLIVER\\n',\n",
       " 'CHARLOTTE\\n',\n",
       " 'LIAM\\n',\n",
       " 'AMELIA\\n',\n",
       " 'BENJAMIN\\n',\n",
       " 'ARIA\\n',\n",
       " 'OWEN\\n',\n",
       " 'OLIVIA\\n',\n",
       " 'JACKSON\\n',\n",
       " 'SCARLETT\\n',\n",
       " 'HENRY\\n',\n",
       " 'AVA\\n',\n",
       " 'DECLAN\\n',\n",
       " 'VIOLET\\n',\n",
       " 'ETHAN\\n',\n",
       " 'NORA\\n',\n",
       " 'NOAH\\n',\n",
       " 'EMMA\\n',\n",
       " 'ALEXANDER\\n',\n",
       " 'AURORA\\n',\n",
       " 'FINN\\n',\n",
       " 'SOPHIA\\n',\n",
       " 'ELIJAH\\n',\n",
       " 'AUDREY\\n',\n",
       " 'CALEB\\n',\n",
       " 'ELLA\\n',\n",
       " 'GRAYSON\\n',\n",
       " 'GRACE\\n',\n",
       " 'EMMETT\\n',\n",
       " 'LILY\\n',\n",
       " 'ELLIOT\\n',\n",
       " 'HARPER\\n',\n",
       " 'GABRIEL\\n',\n",
       " 'VIVIEN\\n',\n",
       " 'AIDEN\\n',\n",
       " 'ABIGAIL\\n',\n",
       " 'LUCAS\\n',\n",
       " 'ISLA\\n',\n",
       " 'LEVI\\n',\n",
       " 'LUCY\\n']"
      ]
     },
     "execution_count": 2,
     "metadata": {},
     "output_type": "execute_result"
    }
   ],
   "source": [
    "list_of_names"
   ]
  },
  {
   "cell_type": "code",
   "execution_count": 3,
   "metadata": {
    "collapsed": false,
    "scrolled": true
   },
   "outputs": [
    {
     "name": "stdout",
     "output_type": "stream",
     "text": [
      "OLIVER\n",
      "\n",
      "CHARLOTTE\n",
      "\n",
      "LIAM\n",
      "\n",
      "AMELIA\n",
      "\n",
      "BENJAMIN\n",
      "\n",
      "ARIA\n",
      "\n",
      "OWEN\n",
      "\n",
      "OLIVIA\n",
      "\n",
      "JACKSON\n",
      "\n",
      "SCARLETT\n",
      "\n",
      "HENRY\n",
      "\n",
      "AVA\n",
      "\n",
      "DECLAN\n",
      "\n",
      "VIOLET\n",
      "\n",
      "ETHAN\n",
      "\n",
      "NORA\n",
      "\n",
      "NOAH\n",
      "\n",
      "EMMA\n",
      "\n",
      "ALEXANDER\n",
      "\n",
      "AURORA\n",
      "\n",
      "FINN\n",
      "\n",
      "SOPHIA\n",
      "\n",
      "ELIJAH\n",
      "\n",
      "AUDREY\n",
      "\n",
      "CALEB\n",
      "\n",
      "ELLA\n",
      "\n",
      "GRAYSON\n",
      "\n",
      "GRACE\n",
      "\n",
      "EMMETT\n",
      "\n",
      "LILY\n",
      "\n",
      "ELLIOT\n",
      "\n",
      "HARPER\n",
      "\n",
      "GABRIEL\n",
      "\n",
      "VIVIEN\n",
      "\n",
      "AIDEN\n",
      "\n",
      "ABIGAIL\n",
      "\n",
      "LUCAS\n",
      "\n",
      "ISLA\n",
      "\n",
      "LEVI\n",
      "\n",
      "LUCY\n",
      "\n"
     ]
    }
   ],
   "source": [
    "with open('names.txt') as f:\n",
    "    # we can also iterate through the lines of the file object (which we've named 'f')\n",
    "    # without reading the entirity of the file into memory\n",
    "    for line in f: \n",
    "        print(line)"
   ]
  },
  {
   "cell_type": "markdown",
   "metadata": {},
   "source": [
    "#### Notes:\n",
    "We can see here that each of the names that we're going to check has a newline appended to it. We will need to remove these newlines, as they are not actually a part of the names.\n",
    "\n",
    "Additionally, we will want to lowercase these capital letters. (standard text processing procedure to ensure that we are comparing apples to apples, so to speak)"
   ]
  },
  {
   "cell_type": "markdown",
   "metadata": {},
   "source": [
    "# Initial solution: suboptimal performance, but solves problem"
   ]
  },
  {
   "cell_type": "markdown",
   "metadata": {},
   "source": [
    "#### What we're going to do:\n",
    "\n",
    "Read the names from 'names.txt' into a list, so that we can check them against the contents of 'list.txt'. Use a dictionary to store the number of times that each of these names appears in the list.txt file. "
   ]
  },
  {
   "cell_type": "markdown",
   "metadata": {},
   "source": [
    "#### Program structure in more detail:\n",
    "\n",
    "We do not need to retain the contents of 'list.txt' - we can actually just iterate through its lines and \n",
    "check each to see if a given line is one of the names we're looking for. In this case, we will achieve better performance this way than if we were to read the entire contents of 'list.txt' into memory.\n",
    "\n",
    "Could we do this the other way around? That is, store 'list.txt' and iterate through the lines 'names.txt'? We\n",
    "could indeed! But as we will see below, 'list.txt' has many more lines than 'names.txt', so we will achieve better\n",
    "performance by storing 'names.txt' and just iterating through the lines of 'list.txt'.\n",
    "\n",
    "Could we just iterate through the lines of both files to avoid having to store anything? No. We need to store the \n",
    "contents of at least one of the files. Otherwise, we wouldn't be able to keep track of the number of times we've seen a name."
   ]
  },
  {
   "cell_type": "markdown",
   "metadata": {},
   "source": [
    "### Getting names to check"
   ]
  },
  {
   "cell_type": "markdown",
   "metadata": {},
   "source": [
    "#### Use a list to store names from names.txt:"
   ]
  },
  {
   "cell_type": "code",
   "execution_count": 4,
   "metadata": {
    "collapsed": true
   },
   "outputs": [],
   "source": [
    "# this creates a new, empty list\n",
    "names_take_two = [] \n",
    "\n",
    "#this opens 'names.txt', and names our file object (our pathway to the data in the file) 'f'\n",
    "with open('names.txt') as f:  \n",
    "    \n",
    "    for line in f: # means that you will move through each item in f (our open file)\n",
    "        \n",
    "        # for each item: \n",
    "        # .strip() - removes extra characters\n",
    "        # .lower() - lowercases the letters in each name\n",
    "        #  append - adds item to end of our list that we have called names_again\n",
    "        names_take_two.append(line.strip().lower()) "
   ]
  },
  {
   "cell_type": "code",
   "execution_count": 5,
   "metadata": {
    "collapsed": false,
    "scrolled": true
   },
   "outputs": [
    {
     "data": {
      "text/plain": [
       "['oliver',\n",
       " 'charlotte',\n",
       " 'liam',\n",
       " 'amelia',\n",
       " 'benjamin',\n",
       " 'aria',\n",
       " 'owen',\n",
       " 'olivia',\n",
       " 'jackson',\n",
       " 'scarlett',\n",
       " 'henry',\n",
       " 'ava',\n",
       " 'declan',\n",
       " 'violet',\n",
       " 'ethan',\n",
       " 'nora',\n",
       " 'noah',\n",
       " 'emma',\n",
       " 'alexander',\n",
       " 'aurora',\n",
       " 'finn',\n",
       " 'sophia',\n",
       " 'elijah',\n",
       " 'audrey',\n",
       " 'caleb',\n",
       " 'ella',\n",
       " 'grayson',\n",
       " 'grace',\n",
       " 'emmett',\n",
       " 'lily',\n",
       " 'elliot',\n",
       " 'harper',\n",
       " 'gabriel',\n",
       " 'vivien',\n",
       " 'aiden',\n",
       " 'abigail',\n",
       " 'lucas',\n",
       " 'isla',\n",
       " 'levi',\n",
       " 'lucy']"
      ]
     },
     "execution_count": 5,
     "metadata": {},
     "output_type": "execute_result"
    }
   ],
   "source": [
    "names_take_two"
   ]
  },
  {
   "cell_type": "code",
   "execution_count": 6,
   "metadata": {
    "collapsed": false
   },
   "outputs": [
    {
     "data": {
      "text/plain": [
       "40"
      ]
     },
     "execution_count": 6,
     "metadata": {},
     "output_type": "execute_result"
    }
   ],
   "source": [
    "len(names_take_two)"
   ]
  },
  {
   "cell_type": "markdown",
   "metadata": {},
   "source": [
    "### Examination of the list of words we're checking our names against"
   ]
  },
  {
   "cell_type": "markdown",
   "metadata": {},
   "source": [
    "#### Iterate using a for loop through only the first 10 words in 'list.txt':"
   ]
  },
  {
   "cell_type": "code",
   "execution_count": 7,
   "metadata": {
    "collapsed": false,
    "scrolled": true
   },
   "outputs": [
    {
     "name": "stdout",
     "output_type": "stream",
     "text": [
      "a\n",
      "\n",
      "aah\n",
      "\n",
      "aahed\n",
      "\n",
      "aahing\n",
      "\n",
      "aahs\n",
      "\n",
      "aardvark\n",
      "\n",
      "aardvarks\n",
      "\n",
      "aardwolf\n",
      "\n",
      "ab\n",
      "\n",
      "abaci\n",
      "\n"
     ]
    }
   ],
   "source": [
    "with open('list.txt') as f:\n",
    "    \n",
    "    # we create a variable to serve as a counter and call it i\n",
    "    i=0 # we start i at 0\n",
    "    for line in f:\n",
    "        \n",
    "        i+=1 # every time we go into a new line in f, we add 1 to i (i += 1)\n",
    "        print(line) # print the line\n",
    "        \n",
    "        if i== 10: # we check to see if i is equal to 10 \n",
    "            break # if so, we exit the for loop"
   ]
  },
  {
   "cell_type": "markdown",
   "metadata": {},
   "source": [
    "#### Notes:\n",
    "\n",
    "These words also have newline characters appended to them, so we will want to remove those. Additionally, though these appear to be lowercased, we will force that just to be safe. "
   ]
  },
  {
   "cell_type": "markdown",
   "metadata": {},
   "source": [
    "### Additional check to get length (number of items) of list.txt"
   ]
  },
  {
   "cell_type": "markdown",
   "metadata": {},
   "source": [
    "#### Simple 'for' loop:"
   ]
  },
  {
   "cell_type": "code",
   "execution_count": 8,
   "metadata": {
    "collapsed": true
   },
   "outputs": [],
   "source": [
    "with open('list.txt') as f:\n",
    "    \n",
    "    # we create a variable to serve as a counter and call it i\n",
    "    i = 0 # we start i at 0\n",
    "    for line in f:\n",
    "        i += 1 # every time we go into a new line in f, we add 1 to i (i += 1)"
   ]
  },
  {
   "cell_type": "code",
   "execution_count": 9,
   "metadata": {
    "collapsed": false,
    "scrolled": true
   },
   "outputs": [
    {
     "data": {
      "text/plain": [
       "110401"
      ]
     },
     "execution_count": 9,
     "metadata": {},
     "output_type": "execute_result"
    }
   ],
   "source": [
    "i"
   ]
  },
  {
   "cell_type": "markdown",
   "metadata": {},
   "source": [
    "#### Notes:\n",
    "\n",
    "We can see tha the list.txt file has many more items than the names.txt file."
   ]
  },
  {
   "cell_type": "markdown",
   "metadata": {},
   "source": [
    "### Get counts"
   ]
  },
  {
   "cell_type": "markdown",
   "metadata": {},
   "source": [
    "#### What we're going to do:\n",
    "\n",
    "1) create empty dictionary 'name_counts', to be structured as - {name: count}\n",
    "\n",
    "2) open list.txt\n",
    "\n",
    "3) iterate through lines\n",
    "\n",
    "4) run the strip() function on each line and save as new variable 'potential_name'\n",
    "\n",
    "5) check to see if potential_name in names_take_two\n",
    "\n",
    "6) if not, continue to next line. but if so:\n",
    "\n",
    "7) check if potential name has already been counted. if so:\n",
    "\n",
    "8) increase count of this name by 1. if this is the first time this name has been seen:\n",
    "\n",
    "9) create a new key in name_counts with value 1\n"
   ]
  },
  {
   "cell_type": "markdown",
   "metadata": {},
   "source": [
    "#### Checking names against the contents of 'list.txt':"
   ]
  },
  {
   "cell_type": "code",
   "execution_count": 11,
   "metadata": {
    "collapsed": false
   },
   "outputs": [],
   "source": [
    "name_counts = {} # create a new dictionary\n",
    "with open('list.txt') as f: # open 'list.txt'\n",
    "    for line in f: # iterate through lines in f\n",
    "        potential_name = line.strip() # strip each line of extra chars and call it 'potential_name'\n",
    "        if potential_name in names_take_two: # is this name one of the names we want to count? \n",
    "            if potential_name in name_counts: # is this name a key in our dictionary?\n",
    "                name_counts[potential_name] += 1 # if so, increase its value by 1\n",
    "            else:\n",
    "                name_counts[potential_name] = 1 # otherwise, create it as a key, and set its value to 1"
   ]
  },
  {
   "cell_type": "code",
   "execution_count": 12,
   "metadata": {
    "collapsed": false,
    "scrolled": true
   },
   "outputs": [
    {
     "data": {
      "text/plain": [
       "{'abigail': 37,\n",
       " 'aiden': 35,\n",
       " 'alexander': 20,\n",
       " 'amelia': 4,\n",
       " 'aria': 7,\n",
       " 'audrey': 24,\n",
       " 'aurora': 21,\n",
       " 'ava': 12,\n",
       " 'benjamin': 6,\n",
       " 'caleb': 25,\n",
       " 'charlotte': 5,\n",
       " 'declan': 13,\n",
       " 'elijah': 24,\n",
       " 'ella': 26,\n",
       " 'elliot': 31,\n",
       " 'emma': 18,\n",
       " 'emmett': 29,\n",
       " 'ethan': 15,\n",
       " 'finn': 22,\n",
       " 'gabriel': 34,\n",
       " 'grace': 29,\n",
       " 'grayson': 27,\n",
       " 'harper': 33,\n",
       " 'henry': 12,\n",
       " 'isla': 38,\n",
       " 'jackson': 10,\n",
       " 'levi': 40,\n",
       " 'liam': 6,\n",
       " 'lily': 31,\n",
       " 'lucas': 37,\n",
       " 'lucy': 41,\n",
       " 'noah': 18,\n",
       " 'nora': 16,\n",
       " 'oliver': 3,\n",
       " 'olivia': 9,\n",
       " 'owen': 7,\n",
       " 'scarlett': 10,\n",
       " 'sophia': 22,\n",
       " 'violet': 15,\n",
       " 'vivien': 34}"
      ]
     },
     "execution_count": 12,
     "metadata": {},
     "output_type": "execute_result"
    }
   ],
   "source": [
    "name_counts"
   ]
  },
  {
   "cell_type": "markdown",
   "metadata": {},
   "source": [
    "#### Notes:\n",
    "    \n",
    "We got the number of times that each of our names appears in list.txt! However, we can see that the names are not printing out in the order that they were listed in in the names file.\n",
    "\n",
    "So now we will iterate through our names list, printing, in order, the number of times that each appears in list.txt."
   ]
  },
  {
   "cell_type": "code",
   "execution_count": 15,
   "metadata": {
    "collapsed": false,
    "scrolled": true
   },
   "outputs": [
    {
     "name": "stdout",
     "output_type": "stream",
     "text": [
      "oliver: 3\n",
      "charlotte: 5\n",
      "liam: 6\n",
      "amelia: 4\n",
      "benjamin: 6\n",
      "aria: 7\n",
      "owen: 7\n",
      "olivia: 9\n",
      "jackson: 10\n",
      "scarlett: 10\n",
      "henry: 12\n",
      "ava: 12\n",
      "declan: 13\n",
      "violet: 15\n",
      "ethan: 15\n",
      "nora: 16\n",
      "noah: 18\n",
      "emma: 18\n",
      "alexander: 20\n",
      "aurora: 21\n",
      "finn: 22\n",
      "sophia: 22\n",
      "elijah: 24\n",
      "audrey: 24\n",
      "caleb: 25\n",
      "ella: 26\n",
      "grayson: 27\n",
      "grace: 29\n",
      "emmett: 29\n",
      "lily: 31\n",
      "elliot: 31\n",
      "harper: 33\n",
      "gabriel: 34\n",
      "vivien: 34\n",
      "aiden: 35\n",
      "abigail: 37\n",
      "lucas: 37\n",
      "isla: 38\n",
      "levi: 40\n",
      "lucy: 41\n"
     ]
    }
   ],
   "source": [
    "for name in names_take_two:\n",
    "    print(\"{}: {}\".format(name, name_counts[name])) # print, for each name: 'name: count'"
   ]
  },
  {
   "cell_type": "markdown",
   "metadata": {},
   "source": [
    "# Efficient solution; store procedure as function"
   ]
  },
  {
   "cell_type": "markdown",
   "metadata": {},
   "source": [
    "#### Notes:\n",
    "    \n",
    "Why was our previous solution suboptimal? Because we were performing lookups in a list. Lists are usefu: they preserve order and perform fast - O(1) - appends. But lookups are O(n), which is not phenomenal.\n",
    "\n",
    "The Python dictionary is fast when it comes to lookups, clocking in at O(1). But these don't preserve order. (Which is why we were initially storing all our names in a list) So what do we do? Luckily, the collections library features a special type of dictionary known as the OrderedDict. The OrderedDict, as its name implies, does preserve order. It is also performs look-ups at O(1). \n",
    "\n",
    "We can use the OrderedDict to kill 2 birds with one stone. It will retain, in order, all the names that we need to check. It will also allow us to keep track of the number of times that we've seen each name. This leads to a more efficient solution and will also lead to cleaner code.  "
   ]
  },
  {
   "cell_type": "markdown",
   "metadata": {},
   "source": [
    "#### We are also going to store our procedure for getting the names to check as a function:\n",
    "\n",
    "This function will take as an argument the filename to read the names out of. Will create a new OrderedDict and populate it with our names.\n",
    "\n",
    "The OrderedDict will not allow duplicates entries, which means we are protected against potential duplicates in our names list. We will then return this OrderedDict of names, so that we can use it later (and store the counts in it)"
   ]
  },
  {
   "cell_type": "code",
   "execution_count": 16,
   "metadata": {
    "collapsed": true
   },
   "outputs": [],
   "source": [
    "import collections # generally we put these statements at the top of this book (will ease that rule this time)"
   ]
  },
  {
   "cell_type": "code",
   "execution_count": 17,
   "metadata": {
    "collapsed": true
   },
   "outputs": [],
   "source": [
    "# store our procedure for getting the list of names as a function\n",
    "def get_ordered_list_of_names(file): # function takes a filename as argument\n",
    "    names = collections.OrderedDict()\n",
    "    with open(file) as f:\n",
    "        for line in f:\n",
    "            name = line.strip().lower() # store this as variable so we don't repeat strip() and lower() function calls\n",
    "            if name in names: # check to see if we've already seen this name\n",
    "                continue # if so, this is  duplicate - next iteration of loop\n",
    "            else: # otherwise\n",
    "                names[name] = 0 # add name to name_checker so that we can avoid duplicates\n",
    "    return names"
   ]
  },
  {
   "cell_type": "code",
   "execution_count": 18,
   "metadata": {
    "collapsed": true
   },
   "outputs": [],
   "source": [
    "names = get_ordered_list_of_names('names.txt')"
   ]
  },
  {
   "cell_type": "code",
   "execution_count": 19,
   "metadata": {
    "collapsed": false,
    "scrolled": true
   },
   "outputs": [
    {
     "data": {
      "text/plain": [
       "OrderedDict([('oliver', 0),\n",
       "             ('charlotte', 0),\n",
       "             ('liam', 0),\n",
       "             ('amelia', 0),\n",
       "             ('benjamin', 0),\n",
       "             ('aria', 0),\n",
       "             ('owen', 0),\n",
       "             ('olivia', 0),\n",
       "             ('jackson', 0),\n",
       "             ('scarlett', 0),\n",
       "             ('henry', 0),\n",
       "             ('ava', 0),\n",
       "             ('declan', 0),\n",
       "             ('violet', 0),\n",
       "             ('ethan', 0),\n",
       "             ('nora', 0),\n",
       "             ('noah', 0),\n",
       "             ('emma', 0),\n",
       "             ('alexander', 0),\n",
       "             ('aurora', 0),\n",
       "             ('finn', 0),\n",
       "             ('sophia', 0),\n",
       "             ('elijah', 0),\n",
       "             ('audrey', 0),\n",
       "             ('caleb', 0),\n",
       "             ('ella', 0),\n",
       "             ('grayson', 0),\n",
       "             ('grace', 0),\n",
       "             ('emmett', 0),\n",
       "             ('lily', 0),\n",
       "             ('elliot', 0),\n",
       "             ('harper', 0),\n",
       "             ('gabriel', 0),\n",
       "             ('vivien', 0),\n",
       "             ('aiden', 0),\n",
       "             ('abigail', 0),\n",
       "             ('lucas', 0),\n",
       "             ('isla', 0),\n",
       "             ('levi', 0),\n",
       "             ('lucy', 0)])"
      ]
     },
     "execution_count": 19,
     "metadata": {},
     "output_type": "execute_result"
    }
   ],
   "source": [
    "names"
   ]
  },
  {
   "cell_type": "markdown",
   "metadata": {},
   "source": [
    "#### Notes:\n",
    "    \n",
    "We can see that our distinct set (we've protected against duplicates) of names to look for is ready to go! Additionally,\n",
    "each name already as a value of 0, which will save us a couple lines of code when incrementing our counts. (We won't have to give new names a value of 1)                                  "
   ]
  },
  {
   "cell_type": "code",
   "execution_count": 24,
   "metadata": {
    "collapsed": false
   },
   "outputs": [],
   "source": [
    "# store procedure for getting counts of occurences of names in a file\n",
    "def get_name_counts(file, names): # takes file_name and dictionary (or OrderedDict) of names\n",
    "    with open(file) as f:\n",
    "        for line in f:\n",
    "            name = line.strip().lower()\n",
    "            if name in names:\n",
    "                if name in names:\n",
    "                    names[name] += 1\n",
    "    return names"
   ]
  },
  {
   "cell_type": "code",
   "execution_count": 25,
   "metadata": {
    "collapsed": false
   },
   "outputs": [],
   "source": [
    "names = get_name_counts('list.txt', names)"
   ]
  },
  {
   "cell_type": "code",
   "execution_count": 26,
   "metadata": {
    "collapsed": false
   },
   "outputs": [
    {
     "data": {
      "text/plain": [
       "OrderedDict([('oliver', 3),\n",
       "             ('charlotte', 5),\n",
       "             ('liam', 6),\n",
       "             ('amelia', 4),\n",
       "             ('benjamin', 6),\n",
       "             ('aria', 7),\n",
       "             ('owen', 7),\n",
       "             ('olivia', 9),\n",
       "             ('jackson', 10),\n",
       "             ('scarlett', 10),\n",
       "             ('henry', 12),\n",
       "             ('ava', 12),\n",
       "             ('declan', 13),\n",
       "             ('violet', 15),\n",
       "             ('ethan', 15),\n",
       "             ('nora', 16),\n",
       "             ('noah', 18),\n",
       "             ('emma', 18),\n",
       "             ('alexander', 20),\n",
       "             ('aurora', 21),\n",
       "             ('finn', 22),\n",
       "             ('sophia', 22),\n",
       "             ('elijah', 24),\n",
       "             ('audrey', 24),\n",
       "             ('caleb', 25),\n",
       "             ('ella', 26),\n",
       "             ('grayson', 27),\n",
       "             ('grace', 29),\n",
       "             ('emmett', 29),\n",
       "             ('lily', 31),\n",
       "             ('elliot', 31),\n",
       "             ('harper', 33),\n",
       "             ('gabriel', 34),\n",
       "             ('vivien', 34),\n",
       "             ('aiden', 35),\n",
       "             ('abigail', 37),\n",
       "             ('lucas', 37),\n",
       "             ('isla', 38),\n",
       "             ('levi', 40),\n",
       "             ('lucy', 41)])"
      ]
     },
     "execution_count": 26,
     "metadata": {},
     "output_type": "execute_result"
    }
   ],
   "source": [
    "names"
   ]
  },
  {
   "cell_type": "markdown",
   "metadata": {},
   "source": [
    "#### Notes:\n",
    "    \n",
    "We now have our names, stored in the order in which we they were found, paired with the number of times they appear in 'list.txt', and this was achieved efficiently. "
   ]
  },
  {
   "cell_type": "markdown",
   "metadata": {},
   "source": [
    "#### We can access our results in the saem way that we would with any other dictionary:"
   ]
  },
  {
   "cell_type": "code",
   "execution_count": 27,
   "metadata": {
    "collapsed": false
   },
   "outputs": [
    {
     "data": {
      "text/plain": [
       "37"
      ]
     },
     "execution_count": 27,
     "metadata": {},
     "output_type": "execute_result"
    }
   ],
   "source": [
    "names['abigail']"
   ]
  },
  {
   "cell_type": "markdown",
   "metadata": {},
   "source": [
    "#### Let's iterate through names' keys and values to find the name that showed up the most:"
   ]
  },
  {
   "cell_type": "code",
   "execution_count": 28,
   "metadata": {
    "collapsed": false
   },
   "outputs": [
    {
     "name": "stdout",
     "output_type": "stream",
     "text": [
      "The most found name was lucy, showing up 41 times.\n"
     ]
    }
   ],
   "source": [
    "most_found = ''\n",
    "max_count = 0\n",
    "\n",
    "for key, value in names.items():\n",
    "    if value > max_count:\n",
    "        max_count = value\n",
    "        most_found = key\n",
    "\n",
    "print('The most found name was {}, showing up {} times.'.format(most_found, max_count))"
   ]
  },
  {
   "cell_type": "markdown",
   "metadata": {},
   "source": [
    "#### We can also write a function to save our results to file:"
   ]
  },
  {
   "cell_type": "code",
   "execution_count": 29,
   "metadata": {
    "collapsed": true
   },
   "outputs": [],
   "source": [
    "# function for writing results to a .txt file\n",
    "def write_output_to_txt(outputfile, list_of_names, name_counts):\n",
    "    with open(outputfile, 'w') as f: # must specify 'w' to be able to write to open file\n",
    "        for key, value in names.items():\n",
    "            f.write(\"{}: {}\\n\".format(key, value))"
   ]
  },
  {
   "cell_type": "code",
   "execution_count": 30,
   "metadata": {
    "collapsed": false
   },
   "outputs": [],
   "source": [
    "write_output_to_txt('name_counts.txt', names, name_counts)"
   ]
  },
  {
   "cell_type": "code",
   "execution_count": null,
   "metadata": {
    "collapsed": true
   },
   "outputs": [],
   "source": []
  }
 ],
 "metadata": {
  "kernelspec": {
   "display_name": "Python 3",
   "language": "python",
   "name": "python3"
  },
  "language_info": {
   "codemirror_mode": {
    "name": "ipython",
    "version": 3
   },
   "file_extension": ".py",
   "mimetype": "text/x-python",
   "name": "python",
   "nbconvert_exporter": "python",
   "pygments_lexer": "ipython3",
   "version": "3.5.1"
  }
 },
 "nbformat": 4,
 "nbformat_minor": 0
}
