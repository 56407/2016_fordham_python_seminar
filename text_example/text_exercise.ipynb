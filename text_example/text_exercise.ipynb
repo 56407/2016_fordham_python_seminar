{
 "cells": [
  {
   "cell_type": "markdown",
   "metadata": {
    "collapsed": true
   },
   "source": [
    "## problem: count number of times that names in 'names.txt' appear in 'list.txt'"
   ]
  },
  {
   "cell_type": "markdown",
   "metadata": {},
   "source": [
    "### additionally: retain order of names as they appeared in the file"
   ]
  },
  {
   "cell_type": "markdown",
   "metadata": {},
   "source": [
    "#### --------------------------------"
   ]
  },
  {
   "cell_type": "markdown",
   "metadata": {},
   "source": [
    "##### most basic way to open a file in Python: "
   ]
  },
  {
   "cell_type": "code",
   "execution_count": null,
   "metadata": {
    "collapsed": true
   },
   "outputs": [],
   "source": [
    "with open('names.txt') as f:\n",
    "    names = f.readlines()"
   ]
  },
  {
   "cell_type": "code",
   "execution_count": null,
   "metadata": {
    "collapsed": true
   },
   "outputs": [],
   "source": [
    "names"
   ]
  },
  {
   "cell_type": "code",
   "execution_count": null,
   "metadata": {
    "collapsed": true
   },
   "outputs": [],
   "source": [
    "with open('names.txt') as f:\n",
    "    for line in f:\n",
    "        print(line)"
   ]
  },
  {
   "cell_type": "markdown",
   "metadata": {},
   "source": [
    "##### use a list to store names from names.txt:"
   ]
  },
  {
   "cell_type": "code",
   "execution_count": null,
   "metadata": {
    "collapsed": true
   },
   "outputs": [],
   "source": [
    "# remember, lists retain order - that's why we are using one to store the names\n",
    "\n",
    "# this creates a new, empty list\n",
    "names_again = [] \n",
    "\n",
    "#this opens 'names.txt', and names our file object (our pathway to the data in the file) 'f'\n",
    "with open('names.txt') as f:  \n",
    "    \n",
    "    for line in f: # means that you will move through each item in f (our open file)\n",
    "        \n",
    "        # for each item: \n",
    "        # .strip() - removes extra characters\n",
    "        # .lower() - lowercases the letters in each name\n",
    "        #  append - adds item to end of our list that we have called names_again\n",
    "        names_again.append(line.strip().lower()) "
   ]
  },
  {
   "cell_type": "code",
   "execution_count": null,
   "metadata": {
    "collapsed": true
   },
   "outputs": [],
   "source": [
    "names_again"
   ]
  },
  {
   "cell_type": "markdown",
   "metadata": {},
   "source": [
    "##### iterate using a for loop through only the first 10 words in 'list.txt':"
   ]
  },
  {
   "cell_type": "code",
   "execution_count": null,
   "metadata": {
    "collapsed": true
   },
   "outputs": [],
   "source": [
    "with open('list.txt') as f:\n",
    "    \n",
    "    # we create a variable to serve as a counter and call it i\n",
    "    i=0 # we start i at 0\n",
    "    for line in f:\n",
    "        \n",
    "        i+=1 # every time we go into a new line in f, we add 1 to i (i += 1)\n",
    "        print(line) # print the line\n",
    "        \n",
    "        if i== 10: # we check to see if i is equal to 10 \n",
    "            break # if so, we exit the for loop"
   ]
  },
  {
   "cell_type": "markdown",
   "metadata": {},
   "source": [
    "##### checking names against the contents of 'list.txt':"
   ]
  },
  {
   "cell_type": "code",
   "execution_count": null,
   "metadata": {
    "collapsed": false
   },
   "outputs": [],
   "source": [
    "name_counts = {} # create a new dictionary\n",
    "with open('list.txt') as f: # open 'list.txt'\n",
    "    for line in f: # iterate through lines in f\n",
    "        name = line.strip() # strip each line of extra chars and call it 'name'\n",
    "        if name in names_again: # is this name one of the names we want to count? \n",
    "            if name in name_counts: # is this name a key in our dictionary?\n",
    "                name_counts[name] += 1 # if so, increase its value by 1\n",
    "            else:\n",
    "                name_counts[name] = 1 # otherwise, create it as a key, and set its value to 1"
   ]
  },
  {
   "cell_type": "code",
   "execution_count": null,
   "metadata": {
    "collapsed": true
   },
   "outputs": [],
   "source": [
    "name_counts"
   ]
  },
  {
   "cell_type": "code",
   "execution_count": null,
   "metadata": {
    "collapsed": true
   },
   "outputs": [],
   "source": [
    "for name in names_again:\n",
    "    print(\"{}: {}\".format(name, name_counts[name])) # print each name out"
   ]
  },
  {
   "cell_type": "code",
   "execution_count": null,
   "metadata": {
    "collapsed": true
   },
   "outputs": [],
   "source": [
    "# store our procedure for getting the list of names as a function\n",
    "def get_ordered_list_of_names(file): # function takes a filename as argument\n",
    "    names = [] # what we will populate and return; an ordered list of names\n",
    "    name_checker = set() # used to store distinct set of names\n",
    "    with open(file) as f:\n",
    "        for line in f:\n",
    "            name = line.strip().lower() # store this as variable so we don't repeat strip() and lower() function calls\n",
    "            if name in name_checker: # check to see if we've already seen this name\n",
    "                continue # if so, this is  duplicate - next iteration of loop\n",
    "            else: # otherwise\n",
    "                names.append(name) # add name to our approved, ordered list\n",
    "                name_checker.add(name)# add name to name_checker so that we can avoid duplicates\n",
    "    return names"
   ]
  },
  {
   "cell_type": "code",
   "execution_count": null,
   "metadata": {
    "collapsed": true
   },
   "outputs": [],
   "source": [
    "names = get_ordered_list_of_names('names.txt')"
   ]
  },
  {
   "cell_type": "code",
   "execution_count": null,
   "metadata": {
    "collapsed": true
   },
   "outputs": [],
   "source": [
    "names"
   ]
  },
  {
   "cell_type": "code",
   "execution_count": null,
   "metadata": {
    "collapsed": false
   },
   "outputs": [],
   "source": [
    "# store procedure for getting counts of occurences of names in a file\n",
    "def get_name_counts(file, names_to_check): # takes file and list of names as arguments\n",
    "    name_counts = {}\n",
    "    with open(file) as f:\n",
    "        for line in f:\n",
    "            name = line.strip()\n",
    "            if name in names_to_check:\n",
    "                if name in name_counts:\n",
    "                    name_counts[name] += 1\n",
    "                else:\n",
    "                    name_counts[name] = 1\n",
    "    return name_counts"
   ]
  },
  {
   "cell_type": "code",
   "execution_count": null,
   "metadata": {
    "collapsed": false
   },
   "outputs": [],
   "source": [
    "name_counts = get_name_counts('list.txt', names)"
   ]
  },
  {
   "cell_type": "code",
   "execution_count": null,
   "metadata": {
    "collapsed": false
   },
   "outputs": [],
   "source": [
    "name_counts"
   ]
  },
  {
   "cell_type": "code",
   "execution_count": null,
   "metadata": {
    "collapsed": true
   },
   "outputs": [],
   "source": [
    "# function for writing results to a .txt file\n",
    "def write_output_to_txt(outputfile, list_of_names, name_counts):\n",
    "    with open(outputfile, 'w') as f: # must specify 'w' to be able to write ot open file\n",
    "        for name in list_of_names:\n",
    "            f.write(\"{}: {}\\n\".format(name, name_counts[name]))"
   ]
  },
  {
   "cell_type": "code",
   "execution_count": null,
   "metadata": {
    "collapsed": false
   },
   "outputs": [],
   "source": [
    "write_output_to_txt('name_counts.txt', names, name_counts)"
   ]
  },
  {
   "cell_type": "code",
   "execution_count": null,
   "metadata": {
    "collapsed": true
   },
   "outputs": [],
   "source": []
  }
 ],
 "metadata": {
  "kernelspec": {
   "display_name": "Python 3",
   "language": "python",
   "name": "python3"
  },
  "language_info": {
   "codemirror_mode": {
    "name": "ipython",
    "version": 3
   },
   "file_extension": ".py",
   "mimetype": "text/x-python",
   "name": "python",
   "nbconvert_exporter": "python",
   "pygments_lexer": "ipython3",
   "version": "3.5.1"
  }
 },
 "nbformat": 4,
 "nbformat_minor": 0
}
