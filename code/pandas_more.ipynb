{
 "cells": [
  {
   "cell_type": "code",
   "execution_count": 1,
   "metadata": {
    "collapsed": true
   },
   "outputs": [],
   "source": [
    "import stock_data\n",
    "\n",
    "import pandas\n",
    "import numpy\n",
    "import datetime\n",
    "import matplotlib\n",
    "import matplotlib.pyplot "
   ]
  },
  {
   "cell_type": "code",
   "execution_count": 2,
   "metadata": {
    "collapsed": true
   },
   "outputs": [],
   "source": [
    "%matplotlib inline\n",
    "matplotlib.style.use('ggplot')"
   ]
  },
  {
   "cell_type": "markdown",
   "metadata": {
    "collapsed": true
   },
   "source": [
    "# Get data"
   ]
  },
  {
   "cell_type": "markdown",
   "metadata": {},
   "source": [
    "#### Notes:\n",
    "    \n",
    "We're going to use our all_closing_prices() function from the stock data module to retrieve the aggregated data across all 500 stocks. "
   ]
  },
  {
   "cell_type": "code",
   "execution_count": 3,
   "metadata": {
    "collapsed": false
   },
   "outputs": [],
   "source": [
    "all_data = stock_data.get_all_closing_prices(\"../stock_csvs/\")"
   ]
  },
  {
   "cell_type": "code",
   "execution_count": 4,
   "metadata": {
    "collapsed": false
   },
   "outputs": [
    {
     "data": {
      "text/html": [
       "<div>\n",
       "<table border=\"1\" class=\"dataframe\">\n",
       "  <thead>\n",
       "    <tr style=\"text-align: right;\">\n",
       "      <th></th>\n",
       "      <th>time</th>\n",
       "      <th>open</th>\n",
       "      <th>high</th>\n",
       "      <th>low_price</th>\n",
       "      <th>close</th>\n",
       "      <th>volume</th>\n",
       "    </tr>\n",
       "    <tr>\n",
       "      <th>date</th>\n",
       "      <th></th>\n",
       "      <th></th>\n",
       "      <th></th>\n",
       "      <th></th>\n",
       "      <th></th>\n",
       "      <th></th>\n",
       "    </tr>\n",
       "  </thead>\n",
       "  <tbody>\n",
       "    <tr>\n",
       "      <th>1998-01-02</th>\n",
       "      <td>0</td>\n",
       "      <td>13.3754</td>\n",
       "      <td>13.4223</td>\n",
       "      <td>13.2462</td>\n",
       "      <td>13.3511</td>\n",
       "      <td>2739839.602</td>\n",
       "    </tr>\n",
       "    <tr>\n",
       "      <th>1998-01-05</th>\n",
       "      <td>0</td>\n",
       "      <td>13.4916</td>\n",
       "      <td>13.7033</td>\n",
       "      <td>13.4691</td>\n",
       "      <td>13.5853</td>\n",
       "      <td>5332919.264</td>\n",
       "    </tr>\n",
       "    <tr>\n",
       "      <th>1998-01-06</th>\n",
       "      <td>0</td>\n",
       "      <td>13.5159</td>\n",
       "      <td>13.5159</td>\n",
       "      <td>13.2817</td>\n",
       "      <td>13.2817</td>\n",
       "      <td>4019035.876</td>\n",
       "    </tr>\n",
       "    <tr>\n",
       "      <th>1998-01-07</th>\n",
       "      <td>0</td>\n",
       "      <td>13.0344</td>\n",
       "      <td>13.3042</td>\n",
       "      <td>13.0344</td>\n",
       "      <td>13.3042</td>\n",
       "      <td>3450682.202</td>\n",
       "    </tr>\n",
       "    <tr>\n",
       "      <th>1998-01-08</th>\n",
       "      <td>0</td>\n",
       "      <td>13.3042</td>\n",
       "      <td>13.3979</td>\n",
       "      <td>12.7421</td>\n",
       "      <td>12.7533</td>\n",
       "      <td>2440987.524</td>\n",
       "    </tr>\n",
       "  </tbody>\n",
       "</table>\n",
       "</div>"
      ],
      "text/plain": [
       "            time     open     high  low_price    close       volume\n",
       "date                                                               \n",
       "1998-01-02     0  13.3754  13.4223    13.2462  13.3511  2739839.602\n",
       "1998-01-05     0  13.4916  13.7033    13.4691  13.5853  5332919.264\n",
       "1998-01-06     0  13.5159  13.5159    13.2817  13.2817  4019035.876\n",
       "1998-01-07     0  13.0344  13.3042    13.0344  13.3042  3450682.202\n",
       "1998-01-08     0  13.3042  13.3979    12.7421  12.7533  2440987.524"
      ]
     },
     "execution_count": 4,
     "metadata": {},
     "output_type": "execute_result"
    }
   ],
   "source": [
    "all_data.aa.head()"
   ]
  },
  {
   "cell_type": "markdown",
   "metadata": {},
   "source": [
    "# Indexing"
   ]
  },
  {
   "cell_type": "markdown",
   "metadata": {},
   "source": [
    "### Columns"
   ]
  },
  {
   "cell_type": "code",
   "execution_count": 5,
   "metadata": {
    "collapsed": false
   },
   "outputs": [
    {
     "data": {
      "text/html": [
       "<div>\n",
       "<table border=\"1\" class=\"dataframe\">\n",
       "  <thead>\n",
       "    <tr style=\"text-align: right;\">\n",
       "      <th></th>\n",
       "      <th>time</th>\n",
       "      <th>open</th>\n",
       "      <th>high</th>\n",
       "      <th>low_price</th>\n",
       "      <th>close</th>\n",
       "      <th>volume</th>\n",
       "    </tr>\n",
       "    <tr>\n",
       "      <th>date</th>\n",
       "      <th></th>\n",
       "      <th></th>\n",
       "      <th></th>\n",
       "      <th></th>\n",
       "      <th></th>\n",
       "      <th></th>\n",
       "    </tr>\n",
       "  </thead>\n",
       "  <tbody>\n",
       "    <tr>\n",
       "      <th>1998-01-02</th>\n",
       "      <td>0</td>\n",
       "      <td>3.31397</td>\n",
       "      <td>3.95098</td>\n",
       "      <td>3.28236</td>\n",
       "      <td>3.95098</td>\n",
       "      <td>24947201.10</td>\n",
       "    </tr>\n",
       "    <tr>\n",
       "      <th>1998-01-05</th>\n",
       "      <td>0</td>\n",
       "      <td>4.01177</td>\n",
       "      <td>4.02635</td>\n",
       "      <td>3.69325</td>\n",
       "      <td>3.89020</td>\n",
       "      <td>22344145.08</td>\n",
       "    </tr>\n",
       "    <tr>\n",
       "      <th>1998-01-06</th>\n",
       "      <td>0</td>\n",
       "      <td>3.87561</td>\n",
       "      <td>4.98432</td>\n",
       "      <td>3.58628</td>\n",
       "      <td>4.60502</td>\n",
       "      <td>63150252.55</td>\n",
       "    </tr>\n",
       "    <tr>\n",
       "      <th>1998-01-07</th>\n",
       "      <td>0</td>\n",
       "      <td>4.57341</td>\n",
       "      <td>4.68040</td>\n",
       "      <td>4.20871</td>\n",
       "      <td>4.24032</td>\n",
       "      <td>36978255.52</td>\n",
       "    </tr>\n",
       "    <tr>\n",
       "      <th>1998-01-08</th>\n",
       "      <td>0</td>\n",
       "      <td>4.24032</td>\n",
       "      <td>4.52965</td>\n",
       "      <td>4.11875</td>\n",
       "      <td>4.39107</td>\n",
       "      <td>27687622.95</td>\n",
       "    </tr>\n",
       "  </tbody>\n",
       "</table>\n",
       "</div>"
      ],
      "text/plain": [
       "            time     open     high  low_price    close       volume\n",
       "date                                                               \n",
       "1998-01-02     0  3.31397  3.95098    3.28236  3.95098  24947201.10\n",
       "1998-01-05     0  4.01177  4.02635    3.69325  3.89020  22344145.08\n",
       "1998-01-06     0  3.87561  4.98432    3.58628  4.60502  63150252.55\n",
       "1998-01-07     0  4.57341  4.68040    4.20871  4.24032  36978255.52\n",
       "1998-01-08     0  4.24032  4.52965    4.11875  4.39107  27687622.95"
      ]
     },
     "execution_count": 5,
     "metadata": {},
     "output_type": "execute_result"
    }
   ],
   "source": [
    "all_data['aapl'].head()"
   ]
  },
  {
   "cell_type": "markdown",
   "metadata": {},
   "source": [
    "#### Notes:\n",
    "    \n",
    "Anyone who has spent any time using Pandas is probably familiar with the somewhat ominous-looking slice vs. copy warnings that will occasionally arise when calling a portion of a DataFrame.\n",
    "\n",
    "These warnings mean to show you that there is the potential that your requested portion-of-a-DataFrame retreival will actually return you a portion of a copy of the DataFrame, and not a portion of the DataFrame itself. This is important - if you plan to modify a DataFrame, then you really do want to modify THAT DataFrame, and not a copy of it. \n",
    "\n",
    "The problem is, for me personally and more than a few other Pandas users out there too, that these warnings are not always easy to get ahead of. Sometimes they fire when in fact you are not working with a copy. Sometimes they seem to not fire even when you are using potentially problematic syntax. You can disable the warnings, but that means risking missing a potentially real data issue. \n",
    "\n",
    "In my efforts to get to the bottom of this, the best I have been able to come up with so far is:\n",
    "    \n",
    "    When using a MultiIndex, it is good to use .loc, as opposed to simply bracketing, to specify columns \n",
    "    and/or rows, even when selecting all. \n",
    "\n",
    "That means that:"
   ]
  },
  {
   "cell_type": "code",
   "execution_count": 6,
   "metadata": {
    "collapsed": false,
    "scrolled": true
   },
   "outputs": [
    {
     "data": {
      "text/plain": [
       "date\n",
       "1998-01-02    3.95098\n",
       "1998-01-05    3.89020\n",
       "1998-01-06    4.60502\n",
       "1998-01-07    4.24032\n",
       "1998-01-08    4.39107\n",
       "Name: (aapl, close), dtype: float64"
      ]
     },
     "execution_count": 6,
     "metadata": {},
     "output_type": "execute_result"
    }
   ],
   "source": [
    "all_data.loc[:, ('aapl', 'close')].head()"
   ]
  },
  {
   "cell_type": "markdown",
   "metadata": {},
   "source": [
    "Is generally preferable to:"
   ]
  },
  {
   "cell_type": "code",
   "execution_count": 7,
   "metadata": {
    "collapsed": false
   },
   "outputs": [
    {
     "data": {
      "text/plain": [
       "date\n",
       "1998-01-02    3.95098\n",
       "1998-01-05    3.89020\n",
       "1998-01-06    4.60502\n",
       "1998-01-07    4.24032\n",
       "1998-01-08    4.39107\n",
       "Name: close, dtype: float64"
      ]
     },
     "execution_count": 7,
     "metadata": {},
     "output_type": "execute_result"
    }
   ],
   "source": [
    "all_data['aapl']['close'].head()"
   ]
  },
  {
   "cell_type": "markdown",
   "metadata": {
    "collapsed": false
   },
   "source": [
    "Of course, it all depends on your particular situation. The potential for accidental copying is something that's just good to keep in mind. "
   ]
  },
  {
   "cell_type": "markdown",
   "metadata": {},
   "source": [
    "### Rows"
   ]
  },
  {
   "cell_type": "markdown",
   "metadata": {},
   "source": [
    "#### Notes:\n",
    "    \n",
    "The Pandas Index is loaded with cool features. "
   ]
  },
  {
   "cell_type": "code",
   "execution_count": 8,
   "metadata": {
    "collapsed": false
   },
   "outputs": [
    {
     "data": {
      "text/plain": [
       "DatetimeIndex(['1998-01-02', '1998-01-05', '1998-01-06', '1998-01-07',\n",
       "               '1998-01-08', '1998-01-09', '1998-01-12', '1998-01-13',\n",
       "               '1998-01-14', '1998-01-15'],\n",
       "              dtype='datetime64[ns]', name='date', freq=None)"
      ]
     },
     "execution_count": 8,
     "metadata": {},
     "output_type": "execute_result"
    }
   ],
   "source": [
    "all_data.index[:10]"
   ]
  },
  {
   "cell_type": "markdown",
   "metadata": {},
   "source": [
    "#### Notes:\n",
    "    \n",
    "Here we select a 2-day slice of our data using the numpy module's datetime64() function"
   ]
  },
  {
   "cell_type": "code",
   "execution_count": 9,
   "metadata": {
    "collapsed": false
   },
   "outputs": [
    {
     "data": {
      "text/html": [
       "<div>\n",
       "<table border=\"1\" class=\"dataframe\">\n",
       "  <thead>\n",
       "    <tr>\n",
       "      <th></th>\n",
       "      <th colspan=\"6\" halign=\"left\">a</th>\n",
       "      <th colspan=\"4\" halign=\"left\">aa</th>\n",
       "      <th>...</th>\n",
       "      <th colspan=\"4\" halign=\"left\">zion</th>\n",
       "      <th colspan=\"6\" halign=\"left\">zmh</th>\n",
       "    </tr>\n",
       "    <tr>\n",
       "      <th></th>\n",
       "      <th>time</th>\n",
       "      <th>open</th>\n",
       "      <th>high</th>\n",
       "      <th>low_price</th>\n",
       "      <th>close</th>\n",
       "      <th>volume</th>\n",
       "      <th>time</th>\n",
       "      <th>open</th>\n",
       "      <th>high</th>\n",
       "      <th>low_price</th>\n",
       "      <th>...</th>\n",
       "      <th>high</th>\n",
       "      <th>low_price</th>\n",
       "      <th>close</th>\n",
       "      <th>volume</th>\n",
       "      <th>time</th>\n",
       "      <th>open</th>\n",
       "      <th>high</th>\n",
       "      <th>low_price</th>\n",
       "      <th>close</th>\n",
       "      <th>volume</th>\n",
       "    </tr>\n",
       "    <tr>\n",
       "      <th>date</th>\n",
       "      <th></th>\n",
       "      <th></th>\n",
       "      <th></th>\n",
       "      <th></th>\n",
       "      <th></th>\n",
       "      <th></th>\n",
       "      <th></th>\n",
       "      <th></th>\n",
       "      <th></th>\n",
       "      <th></th>\n",
       "      <th></th>\n",
       "      <th></th>\n",
       "      <th></th>\n",
       "      <th></th>\n",
       "      <th></th>\n",
       "      <th></th>\n",
       "      <th></th>\n",
       "      <th></th>\n",
       "      <th></th>\n",
       "      <th></th>\n",
       "      <th></th>\n",
       "    </tr>\n",
       "  </thead>\n",
       "  <tbody>\n",
       "    <tr>\n",
       "      <th>1998-01-02</th>\n",
       "      <td>NaN</td>\n",
       "      <td>NaN</td>\n",
       "      <td>NaN</td>\n",
       "      <td>NaN</td>\n",
       "      <td>NaN</td>\n",
       "      <td>NaN</td>\n",
       "      <td>0</td>\n",
       "      <td>13.3754</td>\n",
       "      <td>13.4223</td>\n",
       "      <td>13.2462</td>\n",
       "      <td>...</td>\n",
       "      <td>36.6077</td>\n",
       "      <td>35.8119</td>\n",
       "      <td>36.2098</td>\n",
       "      <td>140860.907</td>\n",
       "      <td>NaN</td>\n",
       "      <td>NaN</td>\n",
       "      <td>NaN</td>\n",
       "      <td>NaN</td>\n",
       "      <td>NaN</td>\n",
       "      <td>NaN</td>\n",
       "    </tr>\n",
       "    <tr>\n",
       "      <th>1998-01-05</th>\n",
       "      <td>NaN</td>\n",
       "      <td>NaN</td>\n",
       "      <td>NaN</td>\n",
       "      <td>NaN</td>\n",
       "      <td>NaN</td>\n",
       "      <td>NaN</td>\n",
       "      <td>0</td>\n",
       "      <td>13.4916</td>\n",
       "      <td>13.7033</td>\n",
       "      <td>13.4691</td>\n",
       "      <td>...</td>\n",
       "      <td>36.9102</td>\n",
       "      <td>36.2098</td>\n",
       "      <td>36.9102</td>\n",
       "      <td>116483.493</td>\n",
       "      <td>NaN</td>\n",
       "      <td>NaN</td>\n",
       "      <td>NaN</td>\n",
       "      <td>NaN</td>\n",
       "      <td>NaN</td>\n",
       "      <td>NaN</td>\n",
       "    </tr>\n",
       "  </tbody>\n",
       "</table>\n",
       "<p>2 rows × 3000 columns</p>\n",
       "</div>"
      ],
      "text/plain": [
       "              a                                    aa                    \\\n",
       "           time open high low_price close volume time     open     high   \n",
       "date                                                                      \n",
       "1998-01-02  NaN  NaN  NaN       NaN   NaN    NaN    0  13.3754  13.4223   \n",
       "1998-01-05  NaN  NaN  NaN       NaN   NaN    NaN    0  13.4916  13.7033   \n",
       "\n",
       "                      ...       zion                                 zmh       \\\n",
       "           low_price  ...       high low_price    close      volume time open   \n",
       "date                  ...                                                       \n",
       "1998-01-02   13.2462  ...    36.6077   35.8119  36.2098  140860.907  NaN  NaN   \n",
       "1998-01-05   13.4691  ...    36.9102   36.2098  36.9102  116483.493  NaN  NaN   \n",
       "\n",
       "                                        \n",
       "           high low_price close volume  \n",
       "date                                    \n",
       "1998-01-02  NaN       NaN   NaN    NaN  \n",
       "1998-01-05  NaN       NaN   NaN    NaN  \n",
       "\n",
       "[2 rows x 3000 columns]"
      ]
     },
     "execution_count": 9,
     "metadata": {},
     "output_type": "execute_result"
    }
   ],
   "source": [
    "all_data.loc[\n",
    "    numpy.datetime64('1998-01-02') : numpy.datetime64('1998-01-05')]"
   ]
  },
  {
   "cell_type": "markdown",
   "metadata": {},
   "source": [
    "#### Notes:\n",
    "    \n",
    "And here, a 10-day snapshot out of aapl's data from the year 2000 onwards. "
   ]
  },
  {
   "cell_type": "code",
   "execution_count": 10,
   "metadata": {
    "collapsed": false
   },
   "outputs": [
    {
     "data": {
      "text/html": [
       "<div>\n",
       "<table border=\"1\" class=\"dataframe\">\n",
       "  <thead>\n",
       "    <tr style=\"text-align: right;\">\n",
       "      <th></th>\n",
       "      <th>time</th>\n",
       "      <th>open</th>\n",
       "      <th>high</th>\n",
       "      <th>low_price</th>\n",
       "      <th>close</th>\n",
       "      <th>volume</th>\n",
       "    </tr>\n",
       "    <tr>\n",
       "      <th>date</th>\n",
       "      <th></th>\n",
       "      <th></th>\n",
       "      <th></th>\n",
       "      <th></th>\n",
       "      <th></th>\n",
       "      <th></th>\n",
       "    </tr>\n",
       "  </thead>\n",
       "  <tbody>\n",
       "    <tr>\n",
       "      <th>2000-01-03</th>\n",
       "      <td>0</td>\n",
       "      <td>25.5002</td>\n",
       "      <td>27.3530</td>\n",
       "      <td>24.7246</td>\n",
       "      <td>27.1852</td>\n",
       "      <td>18438128.13</td>\n",
       "    </tr>\n",
       "    <tr>\n",
       "      <th>2000-01-04</th>\n",
       "      <td>0</td>\n",
       "      <td>26.3196</td>\n",
       "      <td>26.8983</td>\n",
       "      <td>24.6031</td>\n",
       "      <td>24.9070</td>\n",
       "      <td>17601971.28</td>\n",
       "    </tr>\n",
       "    <tr>\n",
       "      <th>2000-01-05</th>\n",
       "      <td>0</td>\n",
       "      <td>25.2255</td>\n",
       "      <td>26.8813</td>\n",
       "      <td>25.0431</td>\n",
       "      <td>25.2863</td>\n",
       "      <td>26990077.24</td>\n",
       "    </tr>\n",
       "    <tr>\n",
       "      <th>2000-01-06</th>\n",
       "      <td>0</td>\n",
       "      <td>25.8042</td>\n",
       "      <td>26.0157</td>\n",
       "      <td>23.0981</td>\n",
       "      <td>23.1127</td>\n",
       "      <td>26915221.62</td>\n",
       "    </tr>\n",
       "    <tr>\n",
       "      <th>2000-01-07</th>\n",
       "      <td>0</td>\n",
       "      <td>23.4628</td>\n",
       "      <td>24.5569</td>\n",
       "      <td>23.2196</td>\n",
       "      <td>24.1630</td>\n",
       "      <td>15651221.11</td>\n",
       "    </tr>\n",
       "    <tr>\n",
       "      <th>2000-01-10</th>\n",
       "      <td>0</td>\n",
       "      <td>24.8001</td>\n",
       "      <td>24.8608</td>\n",
       "      <td>23.0373</td>\n",
       "      <td>23.7667</td>\n",
       "      <td>17316948.00</td>\n",
       "    </tr>\n",
       "    <tr>\n",
       "      <th>2000-01-11</th>\n",
       "      <td>0</td>\n",
       "      <td>23.3266</td>\n",
       "      <td>24.1630</td>\n",
       "      <td>22.0039</td>\n",
       "      <td>22.6118</td>\n",
       "      <td>15291344.43</td>\n",
       "    </tr>\n",
       "    <tr>\n",
       "      <th>2000-01-12</th>\n",
       "      <td>0</td>\n",
       "      <td>23.0981</td>\n",
       "      <td>23.2196</td>\n",
       "      <td>21.0314</td>\n",
       "      <td>21.2137</td>\n",
       "      <td>34529016.13</td>\n",
       "    </tr>\n",
       "    <tr>\n",
       "      <th>2000-01-13</th>\n",
       "      <td>0</td>\n",
       "      <td>22.9716</td>\n",
       "      <td>24.0099</td>\n",
       "      <td>22.4902</td>\n",
       "      <td>23.5090</td>\n",
       "      <td>33902210.01</td>\n",
       "    </tr>\n",
       "    <tr>\n",
       "      <th>2000-01-14</th>\n",
       "      <td>0</td>\n",
       "      <td>24.3138</td>\n",
       "      <td>24.8608</td>\n",
       "      <td>24.1630</td>\n",
       "      <td>24.4354</td>\n",
       "      <td>13338544.85</td>\n",
       "    </tr>\n",
       "  </tbody>\n",
       "</table>\n",
       "</div>"
      ],
      "text/plain": [
       "            time     open     high  low_price    close       volume\n",
       "date                                                               \n",
       "2000-01-03     0  25.5002  27.3530    24.7246  27.1852  18438128.13\n",
       "2000-01-04     0  26.3196  26.8983    24.6031  24.9070  17601971.28\n",
       "2000-01-05     0  25.2255  26.8813    25.0431  25.2863  26990077.24\n",
       "2000-01-06     0  25.8042  26.0157    23.0981  23.1127  26915221.62\n",
       "2000-01-07     0  23.4628  24.5569    23.2196  24.1630  15651221.11\n",
       "2000-01-10     0  24.8001  24.8608    23.0373  23.7667  17316948.00\n",
       "2000-01-11     0  23.3266  24.1630    22.0039  22.6118  15291344.43\n",
       "2000-01-12     0  23.0981  23.2196    21.0314  21.2137  34529016.13\n",
       "2000-01-13     0  22.9716  24.0099    22.4902  23.5090  33902210.01\n",
       "2000-01-14     0  24.3138  24.8608    24.1630  24.4354  13338544.85"
      ]
     },
     "execution_count": 10,
     "metadata": {},
     "output_type": "execute_result"
    }
   ],
   "source": [
    "all_data['aapl'].loc[numpy.datetime64('2000-01-01'):].head(10)"
   ]
  },
  {
   "cell_type": "markdown",
   "metadata": {
    "collapsed": true
   },
   "source": [
    "### Using our hierarchical column structure"
   ]
  },
  {
   "cell_type": "markdown",
   "metadata": {},
   "source": [
    "#### Notes:\n",
    "\n",
    "To create a new DataFrame of only closing prices, we check to see if the second level column (first level is ticker) is 'in' the word close, and return all rows for that subset of columns."
   ]
  },
  {
   "cell_type": "code",
   "execution_count": 11,
   "metadata": {
    "collapsed": false
   },
   "outputs": [],
   "source": [
    "close = all_data.ix[:, all_data.columns.get_level_values(1).isin({\"close\"})]"
   ]
  },
  {
   "cell_type": "markdown",
   "metadata": {},
   "source": [
    "#### Notes:\n",
    "    \n",
    "In addition to using the head() method to take a peak at our data, we can also use the .ix selector, which allows us to select how many columns we'd like, which is nice when we have as many as we do here. "
   ]
  },
  {
   "cell_type": "code",
   "execution_count": 12,
   "metadata": {
    "collapsed": false
   },
   "outputs": [
    {
     "data": {
      "text/html": [
       "<div>\n",
       "<table border=\"1\" class=\"dataframe\">\n",
       "  <thead>\n",
       "    <tr>\n",
       "      <th></th>\n",
       "      <th>a</th>\n",
       "      <th>aa</th>\n",
       "      <th>aapl</th>\n",
       "      <th>abbv</th>\n",
       "      <th>abc</th>\n",
       "    </tr>\n",
       "    <tr>\n",
       "      <th></th>\n",
       "      <th>close</th>\n",
       "      <th>close</th>\n",
       "      <th>close</th>\n",
       "      <th>close</th>\n",
       "      <th>close</th>\n",
       "    </tr>\n",
       "    <tr>\n",
       "      <th>date</th>\n",
       "      <th></th>\n",
       "      <th></th>\n",
       "      <th></th>\n",
       "      <th></th>\n",
       "      <th></th>\n",
       "    </tr>\n",
       "  </thead>\n",
       "  <tbody>\n",
       "    <tr>\n",
       "      <th>1998-01-02</th>\n",
       "      <td>NaN</td>\n",
       "      <td>13.3511</td>\n",
       "      <td>3.95098</td>\n",
       "      <td>NaN</td>\n",
       "      <td>6.50799</td>\n",
       "    </tr>\n",
       "    <tr>\n",
       "      <th>1998-01-05</th>\n",
       "      <td>NaN</td>\n",
       "      <td>13.5853</td>\n",
       "      <td>3.89020</td>\n",
       "      <td>NaN</td>\n",
       "      <td>6.40419</td>\n",
       "    </tr>\n",
       "    <tr>\n",
       "      <th>1998-01-06</th>\n",
       "      <td>NaN</td>\n",
       "      <td>13.2817</td>\n",
       "      <td>4.60502</td>\n",
       "      <td>NaN</td>\n",
       "      <td>6.28477</td>\n",
       "    </tr>\n",
       "    <tr>\n",
       "      <th>1998-01-07</th>\n",
       "      <td>NaN</td>\n",
       "      <td>13.3042</td>\n",
       "      <td>4.24032</td>\n",
       "      <td>NaN</td>\n",
       "      <td>6.34839</td>\n",
       "    </tr>\n",
       "    <tr>\n",
       "      <th>1998-01-08</th>\n",
       "      <td>NaN</td>\n",
       "      <td>12.7533</td>\n",
       "      <td>4.39107</td>\n",
       "      <td>NaN</td>\n",
       "      <td>6.38299</td>\n",
       "    </tr>\n",
       "  </tbody>\n",
       "</table>\n",
       "</div>"
      ],
      "text/plain": [
       "               a       aa     aapl  abbv      abc\n",
       "           close    close    close close    close\n",
       "date                                             \n",
       "1998-01-02   NaN  13.3511  3.95098   NaN  6.50799\n",
       "1998-01-05   NaN  13.5853  3.89020   NaN  6.40419\n",
       "1998-01-06   NaN  13.2817  4.60502   NaN  6.28477\n",
       "1998-01-07   NaN  13.3042  4.24032   NaN  6.34839\n",
       "1998-01-08   NaN  12.7533  4.39107   NaN  6.38299"
      ]
     },
     "execution_count": 12,
     "metadata": {},
     "output_type": "execute_result"
    }
   ],
   "source": [
    "close.ix[:5, :5]"
   ]
  },
  {
   "cell_type": "markdown",
   "metadata": {},
   "source": [
    "# Plotting"
   ]
  },
  {
   "cell_type": "markdown",
   "metadata": {},
   "source": [
    "### Simple plotting"
   ]
  },
  {
   "cell_type": "code",
   "execution_count": 13,
   "metadata": {
    "collapsed": true
   },
   "outputs": [],
   "source": [
    "avg_close = close.mean(axis=1)"
   ]
  },
  {
   "cell_type": "code",
   "execution_count": 14,
   "metadata": {
    "collapsed": false
   },
   "outputs": [
    {
     "data": {
      "text/plain": [
       "date\n",
       "1998-01-02    19.282552\n",
       "1998-01-05    19.225251\n",
       "1998-01-06    19.069986\n",
       "1998-01-07    18.955232\n",
       "1998-01-08    18.806100\n",
       "dtype: float64"
      ]
     },
     "execution_count": 14,
     "metadata": {},
     "output_type": "execute_result"
    }
   ],
   "source": [
    "avg_close.head()"
   ]
  },
  {
   "cell_type": "code",
   "execution_count": 15,
   "metadata": {
    "collapsed": false,
    "scrolled": true
   },
   "outputs": [
    {
     "data": {
      "image/png": "[encoded data removed]",
      "text/plain": [
       "<matplotlib.figure.Figure at 0x1100d10f0>"
      ]
     },
     "metadata": {},
     "output_type": "display_data"
    }
   ],
   "source": [
    "plot = avg_close.plot(figsize=(10,6),\n",
    "                      title='Average Non-Weighted Closing Price Across S&P 500 Stocks')"
   ]
  },
  {
   "cell_type": "markdown",
   "metadata": {},
   "source": [
    "### More advanced plotting"
   ]
  },
  {
   "cell_type": "markdown",
   "metadata": {},
   "source": [
    "#### Notes:\n",
    "\n",
    "We will use the rolling function, which provides a rolling window that allows for calculations, to calculate a rolling 30 day average closing price, and plot that against our closing prices."
   ]
  },
  {
   "cell_type": "code",
   "execution_count": 16,
   "metadata": {
    "collapsed": false
   },
   "outputs": [],
   "source": [
    "avg_close_roll_thirty = avg_close.rolling(center=False, window=30).mean()"
   ]
  },
  {
   "cell_type": "code",
   "execution_count": 17,
   "metadata": {
    "collapsed": false
   },
   "outputs": [],
   "source": [
    "combined = pandas.concat([avg_close, avg_close_roll_thirty], axis=1)"
   ]
  },
  {
   "cell_type": "code",
   "execution_count": 18,
   "metadata": {
    "collapsed": false
   },
   "outputs": [
    {
     "data": {
      "text/html": [
       "<div>\n",
       "<table border=\"1\" class=\"dataframe\">\n",
       "  <thead>\n",
       "    <tr style=\"text-align: right;\">\n",
       "      <th></th>\n",
       "      <th>0</th>\n",
       "      <th>1</th>\n",
       "    </tr>\n",
       "    <tr>\n",
       "      <th>date</th>\n",
       "      <th></th>\n",
       "      <th></th>\n",
       "    </tr>\n",
       "  </thead>\n",
       "  <tbody>\n",
       "    <tr>\n",
       "      <th>1998-01-02</th>\n",
       "      <td>19.282552</td>\n",
       "      <td>NaN</td>\n",
       "    </tr>\n",
       "    <tr>\n",
       "      <th>1998-01-05</th>\n",
       "      <td>19.225251</td>\n",
       "      <td>NaN</td>\n",
       "    </tr>\n",
       "    <tr>\n",
       "      <th>1998-01-06</th>\n",
       "      <td>19.069986</td>\n",
       "      <td>NaN</td>\n",
       "    </tr>\n",
       "    <tr>\n",
       "      <th>1998-01-07</th>\n",
       "      <td>18.955232</td>\n",
       "      <td>NaN</td>\n",
       "    </tr>\n",
       "    <tr>\n",
       "      <th>1998-01-08</th>\n",
       "      <td>18.806100</td>\n",
       "      <td>NaN</td>\n",
       "    </tr>\n",
       "  </tbody>\n",
       "</table>\n",
       "</div>"
      ],
      "text/plain": [
       "                    0   1\n",
       "date                     \n",
       "1998-01-02  19.282552 NaN\n",
       "1998-01-05  19.225251 NaN\n",
       "1998-01-06  19.069986 NaN\n",
       "1998-01-07  18.955232 NaN\n",
       "1998-01-08  18.806100 NaN"
      ]
     },
     "execution_count": 18,
     "metadata": {},
     "output_type": "execute_result"
    }
   ],
   "source": [
    "combined.head()"
   ]
  },
  {
   "cell_type": "code",
   "execution_count": 19,
   "metadata": {
    "collapsed": true
   },
   "outputs": [],
   "source": [
    "combined.columns=['avg_close', 'avg_close_roll_thirty']"
   ]
  },
  {
   "cell_type": "code",
   "execution_count": 20,
   "metadata": {
    "collapsed": false
   },
   "outputs": [
    {
     "data": {
      "text/html": [
       "<div>\n",
       "<table border=\"1\" class=\"dataframe\">\n",
       "  <thead>\n",
       "    <tr style=\"text-align: right;\">\n",
       "      <th></th>\n",
       "      <th>avg_close</th>\n",
       "      <th>avg_close_roll_thirty</th>\n",
       "    </tr>\n",
       "    <tr>\n",
       "      <th>date</th>\n",
       "      <th></th>\n",
       "      <th></th>\n",
       "    </tr>\n",
       "  </thead>\n",
       "  <tbody>\n",
       "    <tr>\n",
       "      <th>1998-01-02</th>\n",
       "      <td>19.282552</td>\n",
       "      <td>NaN</td>\n",
       "    </tr>\n",
       "    <tr>\n",
       "      <th>1998-01-05</th>\n",
       "      <td>19.225251</td>\n",
       "      <td>NaN</td>\n",
       "    </tr>\n",
       "    <tr>\n",
       "      <th>1998-01-06</th>\n",
       "      <td>19.069986</td>\n",
       "      <td>NaN</td>\n",
       "    </tr>\n",
       "    <tr>\n",
       "      <th>1998-01-07</th>\n",
       "      <td>18.955232</td>\n",
       "      <td>NaN</td>\n",
       "    </tr>\n",
       "    <tr>\n",
       "      <th>1998-01-08</th>\n",
       "      <td>18.806100</td>\n",
       "      <td>NaN</td>\n",
       "    </tr>\n",
       "  </tbody>\n",
       "</table>\n",
       "</div>"
      ],
      "text/plain": [
       "            avg_close  avg_close_roll_thirty\n",
       "date                                        \n",
       "1998-01-02  19.282552                    NaN\n",
       "1998-01-05  19.225251                    NaN\n",
       "1998-01-06  19.069986                    NaN\n",
       "1998-01-07  18.955232                    NaN\n",
       "1998-01-08  18.806100                    NaN"
      ]
     },
     "execution_count": 20,
     "metadata": {},
     "output_type": "execute_result"
    }
   ],
   "source": [
    "combined.head()"
   ]
  },
  {
   "cell_type": "code",
   "execution_count": 21,
   "metadata": {
    "collapsed": false
   },
   "outputs": [
    {
     "data": {
      "image/png": "[encoded data removed]",
      "text/plain": [
       "<matplotlib.figure.Figure at 0x1100d17b8>"
      ]
     },
     "metadata": {},
     "output_type": "display_data"
    }
   ],
   "source": [
    "plot = combined.plot(figsize=(10,6),\n",
    "                      title='Average Non-Weighted Closing Price Across vs. 30-Day Rolling Average')"
   ]
  },
  {
   "cell_type": "markdown",
   "metadata": {},
   "source": [
    "#### Notes:\n",
    "    \n",
    "We will now make use the of the rolling method() again, only this time passing a window of 90."
   ]
  },
  {
   "cell_type": "code",
   "execution_count": 22,
   "metadata": {
    "collapsed": false
   },
   "outputs": [],
   "source": [
    "avg_close_roll_ninety = avg_close.rolling(center=False, window=90).mean()"
   ]
  },
  {
   "cell_type": "code",
   "execution_count": 23,
   "metadata": {
    "collapsed": true
   },
   "outputs": [],
   "source": [
    "combined['avg_close_roll_ninety'] = avg_close_roll_ninety"
   ]
  },
  {
   "cell_type": "code",
   "execution_count": 24,
   "metadata": {
    "collapsed": false
   },
   "outputs": [
    {
     "data": {
      "image/png": "[encoded data removed]",
      "text/plain": [
       "<matplotlib.figure.Figure at 0x114f856a0>"
      ]
     },
     "metadata": {},
     "output_type": "display_data"
    }
   ],
   "source": [
    "plot = combined.plot(figsize=(10,6),\n",
    "                      title='Average Non-Weighted Closing Price Across vs. 30- and 90-Day Rolling Averages')"
   ]
  },
  {
   "cell_type": "code",
   "execution_count": 25,
   "metadata": {
    "collapsed": false
   },
   "outputs": [
    {
     "data": {
      "text/html": [
       "<div>\n",
       "<table border=\"1\" class=\"dataframe\">\n",
       "  <thead>\n",
       "    <tr style=\"text-align: right;\">\n",
       "      <th></th>\n",
       "      <th>avg_close</th>\n",
       "      <th>avg_close_roll_thirty</th>\n",
       "      <th>avg_close_roll_ninety</th>\n",
       "    </tr>\n",
       "  </thead>\n",
       "  <tbody>\n",
       "    <tr>\n",
       "      <th>count</th>\n",
       "      <td>3926.000000</td>\n",
       "      <td>3897.000000</td>\n",
       "      <td>3837.000000</td>\n",
       "    </tr>\n",
       "    <tr>\n",
       "      <th>mean</th>\n",
       "      <td>36.082386</td>\n",
       "      <td>36.024777</td>\n",
       "      <td>35.911517</td>\n",
       "    </tr>\n",
       "    <tr>\n",
       "      <th>std</th>\n",
       "      <td>11.571955</td>\n",
       "      <td>11.355359</td>\n",
       "      <td>10.955103</td>\n",
       "    </tr>\n",
       "    <tr>\n",
       "      <th>min</th>\n",
       "      <td>17.138981</td>\n",
       "      <td>18.291266</td>\n",
       "      <td>19.558926</td>\n",
       "    </tr>\n",
       "    <tr>\n",
       "      <th>25%</th>\n",
       "      <td>26.624177</td>\n",
       "      <td>26.651411</td>\n",
       "      <td>26.608548</td>\n",
       "    </tr>\n",
       "    <tr>\n",
       "      <th>50%</th>\n",
       "      <td>33.431195</td>\n",
       "      <td>33.420454</td>\n",
       "      <td>33.725473</td>\n",
       "    </tr>\n",
       "    <tr>\n",
       "      <th>75%</th>\n",
       "      <td>44.999082</td>\n",
       "      <td>45.207340</td>\n",
       "      <td>45.463405</td>\n",
       "    </tr>\n",
       "    <tr>\n",
       "      <th>max</th>\n",
       "      <td>69.754696</td>\n",
       "      <td>68.072600</td>\n",
       "      <td>65.972395</td>\n",
       "    </tr>\n",
       "  </tbody>\n",
       "</table>\n",
       "</div>"
      ],
      "text/plain": [
       "         avg_close  avg_close_roll_thirty  avg_close_roll_ninety\n",
       "count  3926.000000            3897.000000            3837.000000\n",
       "mean     36.082386              36.024777              35.911517\n",
       "std      11.571955              11.355359              10.955103\n",
       "min      17.138981              18.291266              19.558926\n",
       "25%      26.624177              26.651411              26.608548\n",
       "50%      33.431195              33.420454              33.725473\n",
       "75%      44.999082              45.207340              45.463405\n",
       "max      69.754696              68.072600              65.972395"
      ]
     },
     "execution_count": 25,
     "metadata": {},
     "output_type": "execute_result"
    }
   ],
   "source": [
    "combined.describe()"
   ]
  },
  {
   "cell_type": "code",
   "execution_count": null,
   "metadata": {
    "collapsed": true
   },
   "outputs": [],
   "source": []
  }
 ],
 "metadata": {
  "kernelspec": {
   "display_name": "Python 3",
   "language": "python",
   "name": "python3"
  },
  "language_info": {
   "codemirror_mode": {
    "name": "ipython",
    "version": 3
   },
   "file_extension": ".py",
   "mimetype": "text/x-python",
   "name": "python",
   "nbconvert_exporter": "python",
   "pygments_lexer": "ipython3",
   "version": "3.5.1"
  }
 },
 "nbformat": 4,
 "nbformat_minor": 0
}
