{
 "cells": [
  {
   "cell_type": "code",
   "execution_count": 2,
   "metadata": {
    "collapsed": false
   },
   "outputs": [],
   "source": [
    "import stock_data\n",
    "\n",
    "import pandas\n",
    "import matplotlib\n",
    "import matplotlib.pyplot "
   ]
  },
  {
   "cell_type": "code",
   "execution_count": 3,
   "metadata": {
    "collapsed": false
   },
   "outputs": [],
   "source": [
    "%matplotlib inline\n",
    "matplotlib.style.use('ggplot')"
   ]
  },
  {
   "cell_type": "markdown",
   "metadata": {},
   "source": [
    "### get data"
   ]
  },
  {
   "cell_type": "code",
   "execution_count": 4,
   "metadata": {
    "collapsed": false
   },
   "outputs": [],
   "source": [
    "data = stock_data.get_all_closing_prices(\"../stock_csvs/\")"
   ]
  },
  {
   "cell_type": "markdown",
   "metadata": {},
   "source": [
    "### retain just closing prices"
   ]
  },
  {
   "cell_type": "code",
   "execution_count": 4,
   "metadata": {
    "collapsed": false
   },
   "outputs": [],
   "source": [
    "closing_prices =  data.ix[:, data.columns.get_level_values(1).isin({\"close\"})]"
   ]
  },
  {
   "cell_type": "code",
   "execution_count": 6,
   "metadata": {
    "collapsed": false,
    "scrolled": true
   },
   "outputs": [
    {
     "data": {
      "text/html": [
       "<div>\n",
       "<table border=\"1\" class=\"dataframe\">\n",
       "  <thead>\n",
       "    <tr>\n",
       "      <th></th>\n",
       "      <th>a</th>\n",
       "      <th>aa</th>\n",
       "      <th>aapl</th>\n",
       "      <th>abbv</th>\n",
       "      <th>abc</th>\n",
       "    </tr>\n",
       "    <tr>\n",
       "      <th></th>\n",
       "      <th>close</th>\n",
       "      <th>close</th>\n",
       "      <th>close</th>\n",
       "      <th>close</th>\n",
       "      <th>close</th>\n",
       "    </tr>\n",
       "    <tr>\n",
       "      <th>date</th>\n",
       "      <th></th>\n",
       "      <th></th>\n",
       "      <th></th>\n",
       "      <th></th>\n",
       "      <th></th>\n",
       "    </tr>\n",
       "  </thead>\n",
       "  <tbody>\n",
       "    <tr>\n",
       "      <th>1998-01-02</th>\n",
       "      <td>NaN</td>\n",
       "      <td>13.3511</td>\n",
       "      <td>3.95098</td>\n",
       "      <td>NaN</td>\n",
       "      <td>6.50799</td>\n",
       "    </tr>\n",
       "    <tr>\n",
       "      <th>1998-01-05</th>\n",
       "      <td>NaN</td>\n",
       "      <td>13.5853</td>\n",
       "      <td>3.89020</td>\n",
       "      <td>NaN</td>\n",
       "      <td>6.40419</td>\n",
       "    </tr>\n",
       "    <tr>\n",
       "      <th>1998-01-06</th>\n",
       "      <td>NaN</td>\n",
       "      <td>13.2817</td>\n",
       "      <td>4.60502</td>\n",
       "      <td>NaN</td>\n",
       "      <td>6.28477</td>\n",
       "    </tr>\n",
       "    <tr>\n",
       "      <th>1998-01-07</th>\n",
       "      <td>NaN</td>\n",
       "      <td>13.3042</td>\n",
       "      <td>4.24032</td>\n",
       "      <td>NaN</td>\n",
       "      <td>6.34839</td>\n",
       "    </tr>\n",
       "    <tr>\n",
       "      <th>1998-01-08</th>\n",
       "      <td>NaN</td>\n",
       "      <td>12.7533</td>\n",
       "      <td>4.39107</td>\n",
       "      <td>NaN</td>\n",
       "      <td>6.38299</td>\n",
       "    </tr>\n",
       "  </tbody>\n",
       "</table>\n",
       "</div>"
      ],
      "text/plain": [
       "               a       aa     aapl  abbv      abc\n",
       "           close    close    close close    close\n",
       "date                                             \n",
       "1998-01-02   NaN  13.3511  3.95098   NaN  6.50799\n",
       "1998-01-05   NaN  13.5853  3.89020   NaN  6.40419\n",
       "1998-01-06   NaN  13.2817  4.60502   NaN  6.28477\n",
       "1998-01-07   NaN  13.3042  4.24032   NaN  6.34839\n",
       "1998-01-08   NaN  12.7533  4.39107   NaN  6.38299"
      ]
     },
     "execution_count": 6,
     "metadata": {},
     "output_type": "execute_result"
    }
   ],
   "source": [
    "closing_prices.ix[:5, :5]"
   ]
  },
  {
   "cell_type": "markdown",
   "metadata": {},
   "source": [
    "### get returns"
   ]
  },
  {
   "cell_type": "code",
   "execution_count": 7,
   "metadata": {
    "collapsed": false
   },
   "outputs": [],
   "source": [
    "returns = (closing_prices.shift(-1) - closing_prices) / closing_prices"
   ]
  },
  {
   "cell_type": "markdown",
   "metadata": {},
   "source": [
    "### correlation matrix"
   ]
  },
  {
   "cell_type": "code",
   "execution_count": 8,
   "metadata": {
    "collapsed": false
   },
   "outputs": [],
   "source": [
    "corr_mat = returns.corr()"
   ]
  },
  {
   "cell_type": "code",
   "execution_count": 9,
   "metadata": {
    "collapsed": false
   },
   "outputs": [
    {
     "data": {
      "text/html": [
       "<div>\n",
       "<table border=\"1\" class=\"dataframe\">\n",
       "  <thead>\n",
       "    <tr>\n",
       "      <th></th>\n",
       "      <th></th>\n",
       "      <th>a</th>\n",
       "      <th>aa</th>\n",
       "      <th>aapl</th>\n",
       "      <th>abbv</th>\n",
       "      <th>abc</th>\n",
       "    </tr>\n",
       "    <tr>\n",
       "      <th></th>\n",
       "      <th></th>\n",
       "      <th>close</th>\n",
       "      <th>close</th>\n",
       "      <th>close</th>\n",
       "      <th>close</th>\n",
       "      <th>close</th>\n",
       "    </tr>\n",
       "  </thead>\n",
       "  <tbody>\n",
       "    <tr>\n",
       "      <th>a</th>\n",
       "      <th>close</th>\n",
       "      <td>1.000000</td>\n",
       "      <td>0.383146</td>\n",
       "      <td>0.361200</td>\n",
       "      <td>0.164908</td>\n",
       "      <td>0.169508</td>\n",
       "    </tr>\n",
       "    <tr>\n",
       "      <th>aa</th>\n",
       "      <th>close</th>\n",
       "      <td>0.383146</td>\n",
       "      <td>1.000000</td>\n",
       "      <td>0.256279</td>\n",
       "      <td>0.067920</td>\n",
       "      <td>0.205052</td>\n",
       "    </tr>\n",
       "    <tr>\n",
       "      <th>aapl</th>\n",
       "      <th>close</th>\n",
       "      <td>0.361200</td>\n",
       "      <td>0.256279</td>\n",
       "      <td>1.000000</td>\n",
       "      <td>0.032483</td>\n",
       "      <td>0.131073</td>\n",
       "    </tr>\n",
       "    <tr>\n",
       "      <th>abbv</th>\n",
       "      <th>close</th>\n",
       "      <td>0.164908</td>\n",
       "      <td>0.067920</td>\n",
       "      <td>0.032483</td>\n",
       "      <td>1.000000</td>\n",
       "      <td>0.282846</td>\n",
       "    </tr>\n",
       "    <tr>\n",
       "      <th>abc</th>\n",
       "      <th>close</th>\n",
       "      <td>0.169508</td>\n",
       "      <td>0.205052</td>\n",
       "      <td>0.131073</td>\n",
       "      <td>0.282846</td>\n",
       "      <td>1.000000</td>\n",
       "    </tr>\n",
       "  </tbody>\n",
       "</table>\n",
       "</div>"
      ],
      "text/plain": [
       "                   a        aa      aapl      abbv       abc\n",
       "               close     close     close     close     close\n",
       "a    close  1.000000  0.383146  0.361200  0.164908  0.169508\n",
       "aa   close  0.383146  1.000000  0.256279  0.067920  0.205052\n",
       "aapl close  0.361200  0.256279  1.000000  0.032483  0.131073\n",
       "abbv close  0.164908  0.067920  0.032483  1.000000  0.282846\n",
       "abc  close  0.169508  0.205052  0.131073  0.282846  1.000000"
      ]
     },
     "execution_count": 9,
     "metadata": {},
     "output_type": "execute_result"
    }
   ],
   "source": [
    "corr_mat.ix[:5, :5]"
   ]
  },
  {
   "cell_type": "markdown",
   "metadata": {},
   "source": [
    "### for each stock, get most-correlated other stock"
   ]
  },
  {
   "cell_type": "markdown",
   "metadata": {},
   "source": [
    "#### get most-correlated other stock for each stock"
   ]
  },
  {
   "cell_type": "code",
   "execution_count": 11,
   "metadata": {
    "collapsed": false
   },
   "outputs": [],
   "source": [
    "max_corrs = []\n",
    "for col in corr_mat.columns:\n",
    "    maximum = corr_mat[col[0]].sort_values(by='close', \n",
    "                                            ascending=False).ix[1]\n",
    "    max_corrs.append((col[0],\n",
    "                      maximum.name[0],\n",
    "                      maximum.values[0]))"
   ]
  },
  {
   "cell_type": "code",
   "execution_count": 12,
   "metadata": {
    "collapsed": false
   },
   "outputs": [
    {
     "data": {
      "text/plain": [
       "[('a', 'tel', 0.6215942479933616),\n",
       " ('aa', 'x', 0.65085342418152092),\n",
       " ('aapl', 'tel', 0.46821786745700583),\n",
       " ('abbv', 'jnj', 0.45930399309677494),\n",
       " ('abc', 'sni', 0.45766391178923288)]"
      ]
     },
     "execution_count": 12,
     "metadata": {},
     "output_type": "execute_result"
    }
   ],
   "source": [
    "max_corrs[:5]"
   ]
  },
  {
   "cell_type": "markdown",
   "metadata": {},
   "source": [
    "#### retain as DataFrame"
   ]
  },
  {
   "cell_type": "code",
   "execution_count": 13,
   "metadata": {
    "collapsed": false
   },
   "outputs": [],
   "source": [
    "max_corrs_df = pandas.DataFrame(max_corrs, \n",
    "                                columns=['stock', 'most correlated other stock', 'correlation'])"
   ]
  },
  {
   "cell_type": "code",
   "execution_count": 14,
   "metadata": {
    "collapsed": false,
    "scrolled": true
   },
   "outputs": [
    {
     "data": {
      "text/html": [
       "<div>\n",
       "<table border=\"1\" class=\"dataframe\">\n",
       "  <thead>\n",
       "    <tr style=\"text-align: right;\">\n",
       "      <th></th>\n",
       "      <th>stock</th>\n",
       "      <th>most correlated other stock</th>\n",
       "      <th>correlation</th>\n",
       "    </tr>\n",
       "  </thead>\n",
       "  <tbody>\n",
       "    <tr>\n",
       "      <th>0</th>\n",
       "      <td>a</td>\n",
       "      <td>tel</td>\n",
       "      <td>0.621594</td>\n",
       "    </tr>\n",
       "    <tr>\n",
       "      <th>1</th>\n",
       "      <td>aa</td>\n",
       "      <td>x</td>\n",
       "      <td>0.650853</td>\n",
       "    </tr>\n",
       "    <tr>\n",
       "      <th>2</th>\n",
       "      <td>aapl</td>\n",
       "      <td>tel</td>\n",
       "      <td>0.468218</td>\n",
       "    </tr>\n",
       "    <tr>\n",
       "      <th>3</th>\n",
       "      <td>abbv</td>\n",
       "      <td>jnj</td>\n",
       "      <td>0.459304</td>\n",
       "    </tr>\n",
       "    <tr>\n",
       "      <th>4</th>\n",
       "      <td>abc</td>\n",
       "      <td>sni</td>\n",
       "      <td>0.457664</td>\n",
       "    </tr>\n",
       "  </tbody>\n",
       "</table>\n",
       "</div>"
      ],
      "text/plain": [
       "  stock most correlated other stock  correlation\n",
       "0     a                         tel     0.621594\n",
       "1    aa                           x     0.650853\n",
       "2  aapl                         tel     0.468218\n",
       "3  abbv                         jnj     0.459304\n",
       "4   abc                         sni     0.457664"
      ]
     },
     "execution_count": 14,
     "metadata": {},
     "output_type": "execute_result"
    }
   ],
   "source": [
    "max_corrs_df.head()"
   ]
  },
  {
   "cell_type": "markdown",
   "metadata": {},
   "source": [
    "### aggregate across 'most correlated other stock' to see if we have any repeat high-correlaters"
   ]
  },
  {
   "cell_type": "markdown",
   "metadata": {},
   "source": [
    "#### count number of occurences of each most-correlated stock"
   ]
  },
  {
   "cell_type": "code",
   "execution_count": 15,
   "metadata": {
    "collapsed": false
   },
   "outputs": [],
   "source": [
    "most_corr = max_corrs_df[['stock', \n",
    "                                'most correlated other stock']].groupby('most correlated other stock').count()"
   ]
  },
  {
   "cell_type": "markdown",
   "metadata": {},
   "source": [
    "#### check out top ten"
   ]
  },
  {
   "cell_type": "code",
   "execution_count": 16,
   "metadata": {
    "collapsed": false
   },
   "outputs": [
    {
     "data": {
      "text/html": [
       "<div>\n",
       "<table border=\"1\" class=\"dataframe\">\n",
       "  <thead>\n",
       "    <tr style=\"text-align: right;\">\n",
       "      <th></th>\n",
       "      <th>stock</th>\n",
       "    </tr>\n",
       "    <tr>\n",
       "      <th>most correlated other stock</th>\n",
       "      <th></th>\n",
       "    </tr>\n",
       "  </thead>\n",
       "  <tbody>\n",
       "    <tr>\n",
       "      <th>se</th>\n",
       "      <td>59</td>\n",
       "    </tr>\n",
       "    <tr>\n",
       "      <th>lyb</th>\n",
       "      <td>31</td>\n",
       "    </tr>\n",
       "    <tr>\n",
       "      <th>amp</th>\n",
       "      <td>27</td>\n",
       "    </tr>\n",
       "    <tr>\n",
       "      <th>sni</th>\n",
       "      <td>26</td>\n",
       "    </tr>\n",
       "    <tr>\n",
       "      <th>tel</th>\n",
       "      <td>26</td>\n",
       "    </tr>\n",
       "    <tr>\n",
       "      <th>wyn</th>\n",
       "      <td>17</td>\n",
       "    </tr>\n",
       "    <tr>\n",
       "      <th>dfs</th>\n",
       "      <td>13</td>\n",
       "    </tr>\n",
       "    <tr>\n",
       "      <th>aee</th>\n",
       "      <td>10</td>\n",
       "    </tr>\n",
       "    <tr>\n",
       "      <th>pru</th>\n",
       "      <td>9</td>\n",
       "    </tr>\n",
       "    <tr>\n",
       "      <th>cov</th>\n",
       "      <td>9</td>\n",
       "    </tr>\n",
       "  </tbody>\n",
       "</table>\n",
       "</div>"
      ],
      "text/plain": [
       "                             stock\n",
       "most correlated other stock       \n",
       "se                              59\n",
       "lyb                             31\n",
       "amp                             27\n",
       "sni                             26\n",
       "tel                             26\n",
       "wyn                             17\n",
       "dfs                             13\n",
       "aee                             10\n",
       "pru                              9\n",
       "cov                              9"
      ]
     },
     "execution_count": 16,
     "metadata": {},
     "output_type": "execute_result"
    }
   ],
   "source": [
    "most_corr.sort_values('stock', ascending=False).ix[:10, :]"
   ]
  },
  {
   "cell_type": "markdown",
   "metadata": {},
   "source": [
    "### additional analysis"
   ]
  },
  {
   "cell_type": "markdown",
   "metadata": {},
   "source": [
    "#### retain top ten"
   ]
  },
  {
   "cell_type": "code",
   "execution_count": 17,
   "metadata": {
    "collapsed": true
   },
   "outputs": [],
   "source": [
    "top_ten = most_corr.sort_values('stock', ascending=False).ix[:10, :]"
   ]
  },
  {
   "cell_type": "markdown",
   "metadata": {},
   "source": [
    "#### check out each occurence's correlation for each top ten stock"
   ]
  },
  {
   "cell_type": "code",
   "execution_count": 18,
   "metadata": {
    "collapsed": false,
    "scrolled": true
   },
   "outputs": [
    {
     "data": {
      "text/html": [
       "<div>\n",
       "<table border=\"1\" class=\"dataframe\">\n",
       "  <thead>\n",
       "    <tr style=\"text-align: right;\">\n",
       "      <th></th>\n",
       "      <th>stock</th>\n",
       "      <th>most correlated other stock</th>\n",
       "      <th>correlation</th>\n",
       "    </tr>\n",
       "  </thead>\n",
       "  <tbody>\n",
       "    <tr>\n",
       "      <th>8</th>\n",
       "      <td>59</td>\n",
       "      <td>se</td>\n",
       "      <td>0.424120</td>\n",
       "    </tr>\n",
       "    <tr>\n",
       "      <th>11</th>\n",
       "      <td>59</td>\n",
       "      <td>se</td>\n",
       "      <td>0.535699</td>\n",
       "    </tr>\n",
       "    <tr>\n",
       "      <th>12</th>\n",
       "      <td>59</td>\n",
       "      <td>se</td>\n",
       "      <td>0.618535</td>\n",
       "    </tr>\n",
       "    <tr>\n",
       "      <th>17</th>\n",
       "      <td>59</td>\n",
       "      <td>se</td>\n",
       "      <td>0.647056</td>\n",
       "    </tr>\n",
       "    <tr>\n",
       "      <th>20</th>\n",
       "      <td>59</td>\n",
       "      <td>se</td>\n",
       "      <td>0.552324</td>\n",
       "    </tr>\n",
       "    <tr>\n",
       "      <th>27</th>\n",
       "      <td>59</td>\n",
       "      <td>se</td>\n",
       "      <td>0.388717</td>\n",
       "    </tr>\n",
       "    <tr>\n",
       "      <th>46</th>\n",
       "      <td>59</td>\n",
       "      <td>se</td>\n",
       "      <td>0.589619</td>\n",
       "    </tr>\n",
       "    <tr>\n",
       "      <th>59</th>\n",
       "      <td>59</td>\n",
       "      <td>se</td>\n",
       "      <td>0.489352</td>\n",
       "    </tr>\n",
       "    <tr>\n",
       "      <th>64</th>\n",
       "      <td>59</td>\n",
       "      <td>se</td>\n",
       "      <td>0.603600</td>\n",
       "    </tr>\n",
       "    <tr>\n",
       "      <th>70</th>\n",
       "      <td>59</td>\n",
       "      <td>se</td>\n",
       "      <td>0.484799</td>\n",
       "    </tr>\n",
       "    <tr>\n",
       "      <th>75</th>\n",
       "      <td>59</td>\n",
       "      <td>se</td>\n",
       "      <td>0.535061</td>\n",
       "    </tr>\n",
       "    <tr>\n",
       "      <th>77</th>\n",
       "      <td>59</td>\n",
       "      <td>se</td>\n",
       "      <td>0.517809</td>\n",
       "    </tr>\n",
       "    <tr>\n",
       "      <th>86</th>\n",
       "      <td>59</td>\n",
       "      <td>se</td>\n",
       "      <td>0.407906</td>\n",
       "    </tr>\n",
       "    <tr>\n",
       "      <th>102</th>\n",
       "      <td>59</td>\n",
       "      <td>se</td>\n",
       "      <td>0.678253</td>\n",
       "    </tr>\n",
       "    <tr>\n",
       "      <th>103</th>\n",
       "      <td>59</td>\n",
       "      <td>se</td>\n",
       "      <td>0.629422</td>\n",
       "    </tr>\n",
       "    <tr>\n",
       "      <th>119</th>\n",
       "      <td>59</td>\n",
       "      <td>se</td>\n",
       "      <td>0.552495</td>\n",
       "    </tr>\n",
       "    <tr>\n",
       "      <th>140</th>\n",
       "      <td>59</td>\n",
       "      <td>se</td>\n",
       "      <td>0.687456</td>\n",
       "    </tr>\n",
       "    <tr>\n",
       "      <th>147</th>\n",
       "      <td>59</td>\n",
       "      <td>se</td>\n",
       "      <td>0.583000</td>\n",
       "    </tr>\n",
       "    <tr>\n",
       "      <th>149</th>\n",
       "      <td>59</td>\n",
       "      <td>se</td>\n",
       "      <td>0.429794</td>\n",
       "    </tr>\n",
       "    <tr>\n",
       "      <th>153</th>\n",
       "      <td>59</td>\n",
       "      <td>se</td>\n",
       "      <td>0.607979</td>\n",
       "    </tr>\n",
       "    <tr>\n",
       "      <th>160</th>\n",
       "      <td>59</td>\n",
       "      <td>se</td>\n",
       "      <td>0.627190</td>\n",
       "    </tr>\n",
       "    <tr>\n",
       "      <th>163</th>\n",
       "      <td>59</td>\n",
       "      <td>se</td>\n",
       "      <td>0.698679</td>\n",
       "    </tr>\n",
       "    <tr>\n",
       "      <th>164</th>\n",
       "      <td>59</td>\n",
       "      <td>se</td>\n",
       "      <td>0.474653</td>\n",
       "    </tr>\n",
       "    <tr>\n",
       "      <th>184</th>\n",
       "      <td>59</td>\n",
       "      <td>se</td>\n",
       "      <td>0.530214</td>\n",
       "    </tr>\n",
       "    <tr>\n",
       "      <th>193</th>\n",
       "      <td>59</td>\n",
       "      <td>se</td>\n",
       "      <td>0.641087</td>\n",
       "    </tr>\n",
       "    <tr>\n",
       "      <th>195</th>\n",
       "      <td>59</td>\n",
       "      <td>se</td>\n",
       "      <td>0.548992</td>\n",
       "    </tr>\n",
       "    <tr>\n",
       "      <th>232</th>\n",
       "      <td>59</td>\n",
       "      <td>se</td>\n",
       "      <td>0.583511</td>\n",
       "    </tr>\n",
       "    <tr>\n",
       "      <th>250</th>\n",
       "      <td>59</td>\n",
       "      <td>se</td>\n",
       "      <td>0.600535</td>\n",
       "    </tr>\n",
       "    <tr>\n",
       "      <th>259</th>\n",
       "      <td>59</td>\n",
       "      <td>se</td>\n",
       "      <td>0.494114</td>\n",
       "    </tr>\n",
       "    <tr>\n",
       "      <th>266</th>\n",
       "      <td>59</td>\n",
       "      <td>se</td>\n",
       "      <td>0.724481</td>\n",
       "    </tr>\n",
       "    <tr>\n",
       "      <th>...</th>\n",
       "      <td>...</td>\n",
       "      <td>...</td>\n",
       "      <td>...</td>\n",
       "    </tr>\n",
       "    <tr>\n",
       "      <th>465</th>\n",
       "      <td>13</td>\n",
       "      <td>dfs</td>\n",
       "      <td>0.521738</td>\n",
       "    </tr>\n",
       "    <tr>\n",
       "      <th>497</th>\n",
       "      <td>13</td>\n",
       "      <td>dfs</td>\n",
       "      <td>0.527162</td>\n",
       "    </tr>\n",
       "    <tr>\n",
       "      <th>16</th>\n",
       "      <td>10</td>\n",
       "      <td>aee</td>\n",
       "      <td>0.687427</td>\n",
       "    </tr>\n",
       "    <tr>\n",
       "      <th>125</th>\n",
       "      <td>10</td>\n",
       "      <td>aee</td>\n",
       "      <td>0.693856</td>\n",
       "    </tr>\n",
       "    <tr>\n",
       "      <th>146</th>\n",
       "      <td>10</td>\n",
       "      <td>aee</td>\n",
       "      <td>0.725164</td>\n",
       "    </tr>\n",
       "    <tr>\n",
       "      <th>154</th>\n",
       "      <td>10</td>\n",
       "      <td>aee</td>\n",
       "      <td>0.731145</td>\n",
       "    </tr>\n",
       "    <tr>\n",
       "      <th>178</th>\n",
       "      <td>10</td>\n",
       "      <td>aee</td>\n",
       "      <td>0.684376</td>\n",
       "    </tr>\n",
       "    <tr>\n",
       "      <th>356</th>\n",
       "      <td>10</td>\n",
       "      <td>aee</td>\n",
       "      <td>0.709054</td>\n",
       "    </tr>\n",
       "    <tr>\n",
       "      <th>371</th>\n",
       "      <td>10</td>\n",
       "      <td>aee</td>\n",
       "      <td>0.698951</td>\n",
       "    </tr>\n",
       "    <tr>\n",
       "      <th>401</th>\n",
       "      <td>10</td>\n",
       "      <td>aee</td>\n",
       "      <td>0.683166</td>\n",
       "    </tr>\n",
       "    <tr>\n",
       "      <th>433</th>\n",
       "      <td>10</td>\n",
       "      <td>aee</td>\n",
       "      <td>0.658952</td>\n",
       "    </tr>\n",
       "    <tr>\n",
       "      <th>473</th>\n",
       "      <td>10</td>\n",
       "      <td>aee</td>\n",
       "      <td>0.656011</td>\n",
       "    </tr>\n",
       "    <tr>\n",
       "      <th>19</th>\n",
       "      <td>9</td>\n",
       "      <td>pru</td>\n",
       "      <td>0.672859</td>\n",
       "    </tr>\n",
       "    <tr>\n",
       "      <th>23</th>\n",
       "      <td>9</td>\n",
       "      <td>pru</td>\n",
       "      <td>0.667390</td>\n",
       "    </tr>\n",
       "    <tr>\n",
       "      <th>25</th>\n",
       "      <td>9</td>\n",
       "      <td>pru</td>\n",
       "      <td>0.714367</td>\n",
       "    </tr>\n",
       "    <tr>\n",
       "      <th>218</th>\n",
       "      <td>9</td>\n",
       "      <td>pru</td>\n",
       "      <td>0.740987</td>\n",
       "    </tr>\n",
       "    <tr>\n",
       "      <th>276</th>\n",
       "      <td>9</td>\n",
       "      <td>pru</td>\n",
       "      <td>0.781460</td>\n",
       "    </tr>\n",
       "    <tr>\n",
       "      <th>296</th>\n",
       "      <td>9</td>\n",
       "      <td>pru</td>\n",
       "      <td>0.789685</td>\n",
       "    </tr>\n",
       "    <tr>\n",
       "      <th>360</th>\n",
       "      <td>9</td>\n",
       "      <td>pru</td>\n",
       "      <td>0.799264</td>\n",
       "    </tr>\n",
       "    <tr>\n",
       "      <th>440</th>\n",
       "      <td>9</td>\n",
       "      <td>pru</td>\n",
       "      <td>0.758345</td>\n",
       "    </tr>\n",
       "    <tr>\n",
       "      <th>490</th>\n",
       "      <td>9</td>\n",
       "      <td>pru</td>\n",
       "      <td>0.635990</td>\n",
       "    </tr>\n",
       "    <tr>\n",
       "      <th>51</th>\n",
       "      <td>9</td>\n",
       "      <td>cov</td>\n",
       "      <td>0.488765</td>\n",
       "    </tr>\n",
       "    <tr>\n",
       "      <th>55</th>\n",
       "      <td>9</td>\n",
       "      <td>cov</td>\n",
       "      <td>0.534397</td>\n",
       "    </tr>\n",
       "    <tr>\n",
       "      <th>56</th>\n",
       "      <td>9</td>\n",
       "      <td>cov</td>\n",
       "      <td>0.542769</td>\n",
       "    </tr>\n",
       "    <tr>\n",
       "      <th>169</th>\n",
       "      <td>9</td>\n",
       "      <td>cov</td>\n",
       "      <td>0.387323</td>\n",
       "    </tr>\n",
       "    <tr>\n",
       "      <th>228</th>\n",
       "      <td>9</td>\n",
       "      <td>cov</td>\n",
       "      <td>0.470224</td>\n",
       "    </tr>\n",
       "    <tr>\n",
       "      <th>269</th>\n",
       "      <td>9</td>\n",
       "      <td>cov</td>\n",
       "      <td>0.464226</td>\n",
       "    </tr>\n",
       "    <tr>\n",
       "      <th>295</th>\n",
       "      <td>9</td>\n",
       "      <td>cov</td>\n",
       "      <td>0.514244</td>\n",
       "    </tr>\n",
       "    <tr>\n",
       "      <th>419</th>\n",
       "      <td>9</td>\n",
       "      <td>cov</td>\n",
       "      <td>0.491231</td>\n",
       "    </tr>\n",
       "    <tr>\n",
       "      <th>461</th>\n",
       "      <td>9</td>\n",
       "      <td>cov</td>\n",
       "      <td>0.508060</td>\n",
       "    </tr>\n",
       "  </tbody>\n",
       "</table>\n",
       "<p>227 rows × 3 columns</p>\n",
       "</div>"
      ],
      "text/plain": [
       "     stock most correlated other stock  correlation\n",
       "8       59                          se     0.424120\n",
       "11      59                          se     0.535699\n",
       "12      59                          se     0.618535\n",
       "17      59                          se     0.647056\n",
       "20      59                          se     0.552324\n",
       "27      59                          se     0.388717\n",
       "46      59                          se     0.589619\n",
       "59      59                          se     0.489352\n",
       "64      59                          se     0.603600\n",
       "70      59                          se     0.484799\n",
       "75      59                          se     0.535061\n",
       "77      59                          se     0.517809\n",
       "86      59                          se     0.407906\n",
       "102     59                          se     0.678253\n",
       "103     59                          se     0.629422\n",
       "119     59                          se     0.552495\n",
       "140     59                          se     0.687456\n",
       "147     59                          se     0.583000\n",
       "149     59                          se     0.429794\n",
       "153     59                          se     0.607979\n",
       "160     59                          se     0.627190\n",
       "163     59                          se     0.698679\n",
       "164     59                          se     0.474653\n",
       "184     59                          se     0.530214\n",
       "193     59                          se     0.641087\n",
       "195     59                          se     0.548992\n",
       "232     59                          se     0.583511\n",
       "250     59                          se     0.600535\n",
       "259     59                          se     0.494114\n",
       "266     59                          se     0.724481\n",
       "..     ...                         ...          ...\n",
       "465     13                         dfs     0.521738\n",
       "497     13                         dfs     0.527162\n",
       "16      10                         aee     0.687427\n",
       "125     10                         aee     0.693856\n",
       "146     10                         aee     0.725164\n",
       "154     10                         aee     0.731145\n",
       "178     10                         aee     0.684376\n",
       "356     10                         aee     0.709054\n",
       "371     10                         aee     0.698951\n",
       "401     10                         aee     0.683166\n",
       "433     10                         aee     0.658952\n",
       "473     10                         aee     0.656011\n",
       "19       9                         pru     0.672859\n",
       "23       9                         pru     0.667390\n",
       "25       9                         pru     0.714367\n",
       "218      9                         pru     0.740987\n",
       "276      9                         pru     0.781460\n",
       "296      9                         pru     0.789685\n",
       "360      9                         pru     0.799264\n",
       "440      9                         pru     0.758345\n",
       "490      9                         pru     0.635990\n",
       "51       9                         cov     0.488765\n",
       "55       9                         cov     0.534397\n",
       "56       9                         cov     0.542769\n",
       "169      9                         cov     0.387323\n",
       "228      9                         cov     0.470224\n",
       "269      9                         cov     0.464226\n",
       "295      9                         cov     0.514244\n",
       "419      9                         cov     0.491231\n",
       "461      9                         cov     0.508060\n",
       "\n",
       "[227 rows x 3 columns]"
      ]
     },
     "execution_count": 18,
     "metadata": {},
     "output_type": "execute_result"
    }
   ],
   "source": [
    "top_ten.merge(max_corrs_df[['most correlated other stock', 'correlation']], \n",
    "                              left_index=True,\n",
    "                              right_on='most correlated other stock')"
   ]
  },
  {
   "cell_type": "markdown",
   "metadata": {},
   "source": [
    "#### average across all most-correlated occurrences for each top ten stock"
   ]
  },
  {
   "cell_type": "code",
   "execution_count": 19,
   "metadata": {
    "collapsed": false
   },
   "outputs": [
    {
     "data": {
      "text/html": [
       "<div>\n",
       "<table border=\"1\" class=\"dataframe\">\n",
       "  <thead>\n",
       "    <tr style=\"text-align: right;\">\n",
       "      <th></th>\n",
       "      <th>correlation</th>\n",
       "    </tr>\n",
       "    <tr>\n",
       "      <th>most correlated other stock</th>\n",
       "      <th></th>\n",
       "    </tr>\n",
       "  </thead>\n",
       "  <tbody>\n",
       "    <tr>\n",
       "      <th>aee</th>\n",
       "      <td>0.692810</td>\n",
       "    </tr>\n",
       "    <tr>\n",
       "      <th>amp</th>\n",
       "      <td>0.591676</td>\n",
       "    </tr>\n",
       "    <tr>\n",
       "      <th>cov</th>\n",
       "      <td>0.489027</td>\n",
       "    </tr>\n",
       "    <tr>\n",
       "      <th>dfs</th>\n",
       "      <td>0.573990</td>\n",
       "    </tr>\n",
       "    <tr>\n",
       "      <th>lyb</th>\n",
       "      <td>0.573352</td>\n",
       "    </tr>\n",
       "    <tr>\n",
       "      <th>pru</th>\n",
       "      <td>0.728927</td>\n",
       "    </tr>\n",
       "    <tr>\n",
       "      <th>se</th>\n",
       "      <td>0.583366</td>\n",
       "    </tr>\n",
       "    <tr>\n",
       "      <th>sni</th>\n",
       "      <td>0.510669</td>\n",
       "    </tr>\n",
       "    <tr>\n",
       "      <th>tel</th>\n",
       "      <td>0.556220</td>\n",
       "    </tr>\n",
       "    <tr>\n",
       "      <th>wyn</th>\n",
       "      <td>0.549972</td>\n",
       "    </tr>\n",
       "  </tbody>\n",
       "</table>\n",
       "</div>"
      ],
      "text/plain": [
       "                             correlation\n",
       "most correlated other stock             \n",
       "aee                             0.692810\n",
       "amp                             0.591676\n",
       "cov                             0.489027\n",
       "dfs                             0.573990\n",
       "lyb                             0.573352\n",
       "pru                             0.728927\n",
       "se                              0.583366\n",
       "sni                             0.510669\n",
       "tel                             0.556220\n",
       "wyn                             0.549972"
      ]
     },
     "execution_count": 19,
     "metadata": {},
     "output_type": "execute_result"
    }
   ],
   "source": [
    "top_ten.merge(max_corrs_df[\n",
    "                 ['most correlated other stock', 'correlation']], \n",
    "             left_index=True,\n",
    "             right_on='most correlated other stock')[\n",
    "        ['most correlated other stock', \n",
    "        'correlation']].groupby('most correlated other stock').mean()"
   ]
  },
  {
   "cell_type": "markdown",
   "metadata": {},
   "source": [
    "#### retain the above-described average correlations"
   ]
  },
  {
   "cell_type": "code",
   "execution_count": 20,
   "metadata": {
    "collapsed": true
   },
   "outputs": [],
   "source": [
    "top_ten_avg_corr = top_ten.merge(max_corrs_df[\n",
    "                                     ['most correlated other stock', 'correlation']], \n",
    "                                 left_index=True,\n",
    "                                 right_on='most correlated other stock')[\n",
    "                            ['most correlated other stock', \n",
    "                            'correlation']].groupby('most correlated other stock').mean()"
   ]
  },
  {
   "cell_type": "markdown",
   "metadata": {},
   "source": [
    "#### plot"
   ]
  },
  {
   "cell_type": "code",
   "execution_count": 21,
   "metadata": {
    "collapsed": false
   },
   "outputs": [
    {
     "data": {
      "image/png": "[encoded data removed]",
      "text/plain": [
       "<matplotlib.figure.Figure at 0x10a6f8eb8>"
      ]
     },
     "metadata": {},
     "output_type": "display_data"
    }
   ],
   "source": [
    "plot = top_ten_avg_corr.plot(kind='bar',\n",
    "                            color='Maroon',\n",
    "                            figsize=(12,8))"
   ]
  },
  {
   "cell_type": "markdown",
   "metadata": {},
   "source": [
    "### removing NaNs"
   ]
  },
  {
   "cell_type": "markdown",
   "metadata": {},
   "source": [
    "#### drop all columns for which any row contains NaN"
   ]
  },
  {
   "cell_type": "code",
   "execution_count": 22,
   "metadata": {
    "collapsed": false
   },
   "outputs": [],
   "source": [
    "closing_no_nans = closing_prices.dropna(axis=1, how='any')"
   ]
  },
  {
   "cell_type": "markdown",
   "metadata": {},
   "source": [
    "#### check results"
   ]
  },
  {
   "cell_type": "code",
   "execution_count": 23,
   "metadata": {
    "collapsed": false
   },
   "outputs": [
    {
     "data": {
      "text/plain": [
       "(3926, 388)"
      ]
     },
     "execution_count": 23,
     "metadata": {},
     "output_type": "execute_result"
    }
   ],
   "source": [
    "closing_no_nans.shape"
   ]
  },
  {
   "cell_type": "code",
   "execution_count": 24,
   "metadata": {
    "collapsed": false
   },
   "outputs": [
    {
     "data": {
      "text/html": [
       "<div>\n",
       "<table border=\"1\" class=\"dataframe\">\n",
       "  <thead>\n",
       "    <tr>\n",
       "      <th></th>\n",
       "      <th>aa</th>\n",
       "      <th>aapl</th>\n",
       "      <th>abc</th>\n",
       "      <th>abt</th>\n",
       "      <th>ace</th>\n",
       "    </tr>\n",
       "    <tr>\n",
       "      <th></th>\n",
       "      <th>close</th>\n",
       "      <th>close</th>\n",
       "      <th>close</th>\n",
       "      <th>close</th>\n",
       "      <th>close</th>\n",
       "    </tr>\n",
       "    <tr>\n",
       "      <th>date</th>\n",
       "      <th></th>\n",
       "      <th></th>\n",
       "      <th></th>\n",
       "      <th></th>\n",
       "      <th></th>\n",
       "    </tr>\n",
       "  </thead>\n",
       "  <tbody>\n",
       "    <tr>\n",
       "      <th>1998-01-02</th>\n",
       "      <td>13.3511</td>\n",
       "      <td>3.95098</td>\n",
       "      <td>6.50799</td>\n",
       "      <td>10.3555</td>\n",
       "      <td>22.9865</td>\n",
       "    </tr>\n",
       "    <tr>\n",
       "      <th>1998-01-05</th>\n",
       "      <td>13.5853</td>\n",
       "      <td>3.89020</td>\n",
       "      <td>6.40419</td>\n",
       "      <td>10.4031</td>\n",
       "      <td>22.8365</td>\n",
       "    </tr>\n",
       "    <tr>\n",
       "      <th>1998-01-06</th>\n",
       "      <td>13.2817</td>\n",
       "      <td>4.60502</td>\n",
       "      <td>6.28477</td>\n",
       "      <td>10.2311</td>\n",
       "      <td>23.0180</td>\n",
       "    </tr>\n",
       "    <tr>\n",
       "      <th>1998-01-07</th>\n",
       "      <td>13.3042</td>\n",
       "      <td>4.24032</td>\n",
       "      <td>6.34839</td>\n",
       "      <td>10.2880</td>\n",
       "      <td>23.1389</td>\n",
       "    </tr>\n",
       "    <tr>\n",
       "      <th>1998-01-08</th>\n",
       "      <td>12.7533</td>\n",
       "      <td>4.39107</td>\n",
       "      <td>6.38299</td>\n",
       "      <td>10.4507</td>\n",
       "      <td>22.7446</td>\n",
       "    </tr>\n",
       "  </tbody>\n",
       "</table>\n",
       "</div>"
      ],
      "text/plain": [
       "                 aa     aapl      abc      abt      ace\n",
       "              close    close    close    close    close\n",
       "date                                                   \n",
       "1998-01-02  13.3511  3.95098  6.50799  10.3555  22.9865\n",
       "1998-01-05  13.5853  3.89020  6.40419  10.4031  22.8365\n",
       "1998-01-06  13.2817  4.60502  6.28477  10.2311  23.0180\n",
       "1998-01-07  13.3042  4.24032  6.34839  10.2880  23.1389\n",
       "1998-01-08  12.7533  4.39107  6.38299  10.4507  22.7446"
      ]
     },
     "execution_count": 24,
     "metadata": {},
     "output_type": "execute_result"
    }
   ],
   "source": [
    "closing_no_nans.ix[:5, :5]"
   ]
  },
  {
   "cell_type": "code",
   "execution_count": null,
   "metadata": {
    "collapsed": true
   },
   "outputs": [],
   "source": []
  }
 ],
 "metadata": {
  "kernelspec": {
   "display_name": "Python 3",
   "language": "python",
   "name": "python3"
  },
  "language_info": {
   "codemirror_mode": {
    "name": "ipython",
    "version": 3
   },
   "file_extension": ".py",
   "mimetype": "text/x-python",
   "name": "python",
   "nbconvert_exporter": "python",
   "pygments_lexer": "ipython3",
   "version": "3.5.1"
  }
 },
 "nbformat": 4,
 "nbformat_minor": 0
}
