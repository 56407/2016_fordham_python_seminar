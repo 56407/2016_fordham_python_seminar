{
 "cells": [
  {
   "cell_type": "code",
   "execution_count": 1,
   "metadata": {
    "collapsed": true
   },
   "outputs": [],
   "source": [
    "import pandas\n",
    "import numpy \n",
    "\n",
    "import stock_data"
   ]
  },
  {
   "cell_type": "markdown",
   "metadata": {},
   "source": [
    "# Background"
   ]
  },
  {
   "cell_type": "markdown",
   "metadata": {},
   "source": [
    "#### High-level objectives:\n",
    "\n",
    "1) Build daily table\n",
    "\n",
    "2) Use daily table to build monthly table"
   ]
  },
  {
   "cell_type": "markdown",
   "metadata": {},
   "source": [
    "#### How we will do this:\n",
    "\n",
    "We are going to take the data yielded to us by the get_all_closing_prices() function and rework it a bit to (hopefully) make it more useful.. or at the very least, more interesting!\n",
    "\n",
    "-- \n",
    "\n",
    "We will maintain the exact closing price values in our daily table - and will build off of this to calculate a basic returns column, a time delayed returns column, and a couple of other simple columns.\n",
    "\n",
    "--\n",
    "\n",
    "Some of these columns will involve a bit more calculation and/or data engineering. For these, there is a pretty standard template we will follow:\n",
    "\n",
    "First, create an empty list. Then, loop through our 500 stock tickers. For each:\n",
    "\n",
    "    1) Calculate values for new column\n",
    "    2) Concatenate new column name to values\n",
    "    3) Concatenate ticker (this will allow for neat alignment with existing multi-level column structure)\n",
    "    4) Append this new DataFrame to our list\n",
    "\n",
    "We will then join all of these together to create one DataFrame of these new values, with one column for each of our 500 tickers. \n",
    "\n",
    "--\n",
    "\n",
    "Finally, we will perform two final joins to link all of these DataFrames together into our daily & monthly tables. "
   ]
  },
  {
   "cell_type": "markdown",
   "metadata": {},
   "source": [
    "# Get Data"
   ]
  },
  {
   "cell_type": "code",
   "execution_count": 2,
   "metadata": {
    "collapsed": false
   },
   "outputs": [],
   "source": [
    "data = stock_data.get_all_closing_prices(\"../stock_csvs/\")"
   ]
  },
  {
   "cell_type": "markdown",
   "metadata": {},
   "source": [
    "# Daily table"
   ]
  },
  {
   "cell_type": "markdown",
   "metadata": {},
   "source": [
    "### Get closing price"
   ]
  },
  {
   "cell_type": "markdown",
   "metadata": {},
   "source": [
    "#### Price"
   ]
  },
  {
   "cell_type": "code",
   "execution_count": 3,
   "metadata": {
    "collapsed": true
   },
   "outputs": [],
   "source": [
    "closing_prices = data.ix[:, data.columns.get_level_values(1).isin({\"close\"})]"
   ]
  },
  {
   "cell_type": "markdown",
   "metadata": {},
   "source": [
    "#### Return "
   ]
  },
  {
   "cell_type": "code",
   "execution_count": 4,
   "metadata": {
    "collapsed": true
   },
   "outputs": [],
   "source": [
    "closing_returns = (closing_prices.shift(-1) - closing_prices) / closing_prices"
   ]
  },
  {
   "cell_type": "markdown",
   "metadata": {},
   "source": [
    "#### Previous day's return"
   ]
  },
  {
   "cell_type": "code",
   "execution_count": 5,
   "metadata": {
    "collapsed": true
   },
   "outputs": [],
   "source": [
    "previous_returns = closing_returns.shift(1)"
   ]
  },
  {
   "cell_type": "markdown",
   "metadata": {},
   "source": [
    "### Get intraday values"
   ]
  },
  {
   "cell_type": "markdown",
   "metadata": {},
   "source": [
    "#### Open to close"
   ]
  },
  {
   "cell_type": "code",
   "execution_count": 6,
   "metadata": {
    "collapsed": true
   },
   "outputs": [],
   "source": [
    "dataframes = []\n",
    "for tic in closing_returns.columns.get_level_values(0):\n",
    "    dataframes.append(\n",
    "        pandas.concat({tic: \n",
    "            pandas.concat({'open_to_close':\n",
    "                          (data[tic].close - data[tic].open)\n",
    "                              / data[tic].open\n",
    "                          }, axis=1)}, axis=1))"
   ]
  },
  {
   "cell_type": "code",
   "execution_count": 7,
   "metadata": {
    "collapsed": true
   },
   "outputs": [],
   "source": [
    "open_close = dataframes[0].join(dataframes[1:])"
   ]
  },
  {
   "cell_type": "markdown",
   "metadata": {},
   "source": [
    "#### Span"
   ]
  },
  {
   "cell_type": "code",
   "execution_count": 8,
   "metadata": {
    "collapsed": false
   },
   "outputs": [],
   "source": [
    "dataframes = []\n",
    "for tic in closing_returns.columns.get_level_values(0):\n",
    "    dataframes.append(\n",
    "        pandas.concat({tic: \n",
    "            pandas.concat({'intra_span':\n",
    "                          (data[tic].high - data[tic].low_price)\n",
    "                              / data[tic].low_price\n",
    "                          }, axis=1)}, axis=1))"
   ]
  },
  {
   "cell_type": "code",
   "execution_count": 9,
   "metadata": {
    "collapsed": true
   },
   "outputs": [],
   "source": [
    "intra_span = dataframes[0].join(dataframes[1:])"
   ]
  },
  {
   "cell_type": "markdown",
   "metadata": {},
   "source": [
    "### Get volume"
   ]
  },
  {
   "cell_type": "markdown",
   "metadata": {},
   "source": [
    "#### Day's Volume"
   ]
  },
  {
   "cell_type": "code",
   "execution_count": 10,
   "metadata": {
    "collapsed": true
   },
   "outputs": [],
   "source": [
    "volume =  data.ix[:, data.columns.get_level_values(1).isin({\"volume\"})]"
   ]
  },
  {
   "cell_type": "markdown",
   "metadata": {},
   "source": [
    "#### % above previous day's volume"
   ]
  },
  {
   "cell_type": "code",
   "execution_count": 11,
   "metadata": {
    "collapsed": true
   },
   "outputs": [],
   "source": [
    "volume_returns =  (volume.shift(-1) - volume) / volume"
   ]
  },
  {
   "cell_type": "markdown",
   "metadata": {},
   "source": [
    "### Get return of most-correlated other stock"
   ]
  },
  {
   "cell_type": "code",
   "execution_count": 12,
   "metadata": {
    "collapsed": false,
    "scrolled": true
   },
   "outputs": [],
   "source": [
    "corrs = stock_data.get_max_corrs(closing_returns)"
   ]
  },
  {
   "cell_type": "code",
   "execution_count": 13,
   "metadata": {
    "collapsed": true
   },
   "outputs": [],
   "source": [
    "dataframes = []\n",
    "for tic in closing_returns.columns.get_level_values(0):\n",
    "    top_corr = corrs.ix[tic, 'most correlated other stock']\n",
    "    dataframes.append(\n",
    "        pandas.concat({tic: \n",
    "            pandas.concat({'corr_other': \n",
    "                          closing_returns[top_corr].close}, axis=1)}, axis=1))"
   ]
  },
  {
   "cell_type": "code",
   "execution_count": 14,
   "metadata": {
    "collapsed": true
   },
   "outputs": [],
   "source": [
    "all_corrs = dataframes[0].join(dataframes[1:])"
   ]
  },
  {
   "cell_type": "markdown",
   "metadata": {},
   "source": [
    "### Combine"
   ]
  },
  {
   "cell_type": "code",
   "execution_count": 15,
   "metadata": {
    "collapsed": false
   },
   "outputs": [],
   "source": [
    "dataframes = []\n",
    "for tic in closing_returns.columns.get_level_values(0):\n",
    "    \n",
    "    dataframes.append(pandas.concat({\n",
    "                tic: closing_prices[tic].join(\n",
    "                        closing_returns[tic], rsuffix='_return').join(\n",
    "                            previous_returns[tic], rsuffix='_return_previous').join(\n",
    "                                open_close[tic]).join(\n",
    "                                    intra_span[tic]).join(\n",
    "                                        volume[tic]).join(\n",
    "                                              volume_returns[tic], rsuffix='_change').join(\n",
    "                                                    all_corrs[tic])\n",
    "                }, axis=1))"
   ]
  },
  {
   "cell_type": "code",
   "execution_count": 16,
   "metadata": {
    "collapsed": true
   },
   "outputs": [],
   "source": [
    "daily_table = dataframes[0].join(dataframes[1:])"
   ]
  },
  {
   "cell_type": "code",
   "execution_count": 17,
   "metadata": {
    "collapsed": false
   },
   "outputs": [
    {
     "data": {
      "text/html": [
       "<div>\n",
       "<table border=\"1\" class=\"dataframe\">\n",
       "  <thead>\n",
       "    <tr style=\"text-align: right;\">\n",
       "      <th></th>\n",
       "      <th>close</th>\n",
       "      <th>close_return</th>\n",
       "      <th>close_return_previous</th>\n",
       "      <th>open_to_close</th>\n",
       "      <th>intra_span</th>\n",
       "      <th>volume</th>\n",
       "      <th>volume_change</th>\n",
       "      <th>corr_other</th>\n",
       "    </tr>\n",
       "    <tr>\n",
       "      <th>date</th>\n",
       "      <th></th>\n",
       "      <th></th>\n",
       "      <th></th>\n",
       "      <th></th>\n",
       "      <th></th>\n",
       "      <th></th>\n",
       "      <th></th>\n",
       "      <th></th>\n",
       "    </tr>\n",
       "  </thead>\n",
       "  <tbody>\n",
       "    <tr>\n",
       "      <th>1998-01-02</th>\n",
       "      <td>13.3511</td>\n",
       "      <td>0.017542</td>\n",
       "      <td>NaN</td>\n",
       "      <td>-0.001817</td>\n",
       "      <td>0.013294</td>\n",
       "      <td>2739839.602</td>\n",
       "      <td>0.946435</td>\n",
       "      <td>-0.006130</td>\n",
       "    </tr>\n",
       "    <tr>\n",
       "      <th>1998-01-05</th>\n",
       "      <td>13.5853</td>\n",
       "      <td>-0.022348</td>\n",
       "      <td>0.017542</td>\n",
       "      <td>0.006945</td>\n",
       "      <td>0.017388</td>\n",
       "      <td>5332919.264</td>\n",
       "      <td>-0.246372</td>\n",
       "      <td>-0.012006</td>\n",
       "    </tr>\n",
       "    <tr>\n",
       "      <th>1998-01-06</th>\n",
       "      <td>13.2817</td>\n",
       "      <td>0.001694</td>\n",
       "      <td>-0.022348</td>\n",
       "      <td>-0.017328</td>\n",
       "      <td>0.017633</td>\n",
       "      <td>4019035.876</td>\n",
       "      <td>-0.141415</td>\n",
       "      <td>0.026607</td>\n",
       "    </tr>\n",
       "    <tr>\n",
       "      <th>1998-01-07</th>\n",
       "      <td>13.3042</td>\n",
       "      <td>-0.041408</td>\n",
       "      <td>0.001694</td>\n",
       "      <td>0.020699</td>\n",
       "      <td>0.020699</td>\n",
       "      <td>3450682.202</td>\n",
       "      <td>-0.292607</td>\n",
       "      <td>0.000000</td>\n",
       "    </tr>\n",
       "    <tr>\n",
       "      <th>1998-01-08</th>\n",
       "      <td>12.7533</td>\n",
       "      <td>-0.023806</td>\n",
       "      <td>-0.041408</td>\n",
       "      <td>-0.041408</td>\n",
       "      <td>0.051467</td>\n",
       "      <td>2440987.524</td>\n",
       "      <td>2.110187</td>\n",
       "      <td>-0.080000</td>\n",
       "    </tr>\n",
       "  </tbody>\n",
       "</table>\n",
       "</div>"
      ],
      "text/plain": [
       "              close  close_return  close_return_previous  open_to_close  \\\n",
       "date                                                                      \n",
       "1998-01-02  13.3511      0.017542                    NaN      -0.001817   \n",
       "1998-01-05  13.5853     -0.022348               0.017542       0.006945   \n",
       "1998-01-06  13.2817      0.001694              -0.022348      -0.017328   \n",
       "1998-01-07  13.3042     -0.041408               0.001694       0.020699   \n",
       "1998-01-08  12.7533     -0.023806              -0.041408      -0.041408   \n",
       "\n",
       "            intra_span       volume  volume_change  corr_other  \n",
       "date                                                            \n",
       "1998-01-02    0.013294  2739839.602       0.946435   -0.006130  \n",
       "1998-01-05    0.017388  5332919.264      -0.246372   -0.012006  \n",
       "1998-01-06    0.017633  4019035.876      -0.141415    0.026607  \n",
       "1998-01-07    0.020699  3450682.202      -0.292607    0.000000  \n",
       "1998-01-08    0.051467  2440987.524       2.110187   -0.080000  "
      ]
     },
     "execution_count": 17,
     "metadata": {},
     "output_type": "execute_result"
    }
   ],
   "source": [
    "daily_table.aa.head()"
   ]
  },
  {
   "cell_type": "markdown",
   "metadata": {},
   "source": [
    "# Monthly table"
   ]
  },
  {
   "cell_type": "markdown",
   "metadata": {},
   "source": [
    "### Create initial table"
   ]
  },
  {
   "cell_type": "markdown",
   "metadata": {},
   "source": [
    "#### Average across months in daily table"
   ]
  },
  {
   "cell_type": "code",
   "execution_count": 18,
   "metadata": {
    "collapsed": false
   },
   "outputs": [],
   "source": [
    "monthly_table = daily_table.groupby([daily_table.index.year, daily_table.index.month]).mean()"
   ]
  },
  {
   "cell_type": "code",
   "execution_count": 19,
   "metadata": {
    "collapsed": false
   },
   "outputs": [
    {
     "data": {
      "text/html": [
       "<div>\n",
       "<table border=\"1\" class=\"dataframe\">\n",
       "  <thead>\n",
       "    <tr style=\"text-align: right;\">\n",
       "      <th></th>\n",
       "      <th></th>\n",
       "      <th>close</th>\n",
       "      <th>close_return</th>\n",
       "      <th>close_return_previous</th>\n",
       "      <th>open_to_close</th>\n",
       "      <th>intra_span</th>\n",
       "      <th>volume</th>\n",
       "      <th>volume_change</th>\n",
       "      <th>corr_other</th>\n",
       "    </tr>\n",
       "  </thead>\n",
       "  <tbody>\n",
       "    <tr>\n",
       "      <th rowspan=\"5\" valign=\"top\">1998</th>\n",
       "      <th>1</th>\n",
       "      <td>13.001770</td>\n",
       "      <td>0.004727</td>\n",
       "      <td>0.003860</td>\n",
       "      <td>0.002060</td>\n",
       "      <td>0.023501</td>\n",
       "      <td>5.295351e+06</td>\n",
       "      <td>0.166955</td>\n",
       "      <td>0.007549</td>\n",
       "    </tr>\n",
       "    <tr>\n",
       "      <th>2</th>\n",
       "      <td>14.031084</td>\n",
       "      <td>-0.004858</td>\n",
       "      <td>-0.001855</td>\n",
       "      <td>-0.001103</td>\n",
       "      <td>0.018260</td>\n",
       "      <td>3.665675e+06</td>\n",
       "      <td>0.165154</td>\n",
       "      <td>0.001046</td>\n",
       "    </tr>\n",
       "    <tr>\n",
       "      <th>3</th>\n",
       "      <td>13.463482</td>\n",
       "      <td>-0.001372</td>\n",
       "      <td>-0.002711</td>\n",
       "      <td>-0.003541</td>\n",
       "      <td>0.020624</td>\n",
       "      <td>4.244956e+06</td>\n",
       "      <td>0.064034</td>\n",
       "      <td>0.002662</td>\n",
       "    </tr>\n",
       "    <tr>\n",
       "      <th>4</th>\n",
       "      <td>13.977748</td>\n",
       "      <td>0.006396</td>\n",
       "      <td>0.005821</td>\n",
       "      <td>0.000265</td>\n",
       "      <td>0.020576</td>\n",
       "      <td>6.629143e+06</td>\n",
       "      <td>0.056076</td>\n",
       "      <td>0.001971</td>\n",
       "    </tr>\n",
       "    <tr>\n",
       "      <th>5</th>\n",
       "      <td>13.955640</td>\n",
       "      <td>-0.006089</td>\n",
       "      <td>-0.005222</td>\n",
       "      <td>-0.006265</td>\n",
       "      <td>0.016760</td>\n",
       "      <td>3.316375e+06</td>\n",
       "      <td>0.148095</td>\n",
       "      <td>-0.005262</td>\n",
       "    </tr>\n",
       "  </tbody>\n",
       "</table>\n",
       "</div>"
      ],
      "text/plain": [
       "            close  close_return  close_return_previous  open_to_close  \\\n",
       "1998 1  13.001770      0.004727               0.003860       0.002060   \n",
       "     2  14.031084     -0.004858              -0.001855      -0.001103   \n",
       "     3  13.463482     -0.001372              -0.002711      -0.003541   \n",
       "     4  13.977748      0.006396               0.005821       0.000265   \n",
       "     5  13.955640     -0.006089              -0.005222      -0.006265   \n",
       "\n",
       "        intra_span        volume  volume_change  corr_other  \n",
       "1998 1    0.023501  5.295351e+06       0.166955    0.007549  \n",
       "     2    0.018260  3.665675e+06       0.165154    0.001046  \n",
       "     3    0.020624  4.244956e+06       0.064034    0.002662  \n",
       "     4    0.020576  6.629143e+06       0.056076    0.001971  \n",
       "     5    0.016760  3.316375e+06       0.148095   -0.005262  "
      ]
     },
     "execution_count": 19,
     "metadata": {},
     "output_type": "execute_result"
    }
   ],
   "source": [
    "monthly_table.aa.head()"
   ]
  },
  {
   "cell_type": "markdown",
   "metadata": {},
   "source": [
    "### Get monthly return"
   ]
  },
  {
   "cell_type": "markdown",
   "metadata": {},
   "source": [
    "#### Calulate monthly return for each stock"
   ]
  },
  {
   "cell_type": "code",
   "execution_count": 20,
   "metadata": {
    "collapsed": true
   },
   "outputs": [],
   "source": [
    "dataframes = []\n",
    "for tic in closing_returns.columns.get_level_values(0):\n",
    "    dataframes.append(\n",
    "        pandas.concat({tic: \n",
    "            pandas.concat({'return_monthly':\n",
    "                (daily_table[tic].close_return + 1).groupby([daily_table.index.year, \n",
    "                                                             daily_table.index.month]).apply(lambda x: \n",
    "                                                                                        numpy.product(x)).groupby(\n",
    "                                                                                [daily_table.index.year, \n",
    "                                                                                 daily_table.index.month]).first()\n",
    "                          }, axis=1)}, axis=1))"
   ]
  },
  {
   "cell_type": "markdown",
   "metadata": {},
   "source": [
    "#### Join results into one DataFrame"
   ]
  },
  {
   "cell_type": "code",
   "execution_count": 21,
   "metadata": {
    "collapsed": true
   },
   "outputs": [],
   "source": [
    "monthly_returns = dataframes[0].join(dataframes[1:])"
   ]
  },
  {
   "cell_type": "markdown",
   "metadata": {},
   "source": [
    "#### Check to see if this works"
   ]
  },
  {
   "cell_type": "code",
   "execution_count": 22,
   "metadata": {
    "collapsed": false
   },
   "outputs": [
    {
     "data": {
      "text/plain": [
       "True"
      ]
     },
     "execution_count": 22,
     "metadata": {},
     "output_type": "execute_result"
    }
   ],
   "source": [
    "((daily_table.aa.close[0] * \n",
    "    monthly_returns.aa.return_monthly[0]).round(4) == \n",
    "        daily_table.aa.close[(daily_table.index.year==1998) & (daily_table.index.month==2)][0])"
   ]
  },
  {
   "cell_type": "markdown",
   "metadata": {},
   "source": [
    "#### Notes:\n",
    "\n",
    "To check our monthly compunded return calculations, what we are doing is:\n",
    "\n",
    "    1) Pick an example ticker (in this case 'aa', as it has complete data)\n",
    "    2) Grab the monthly compounded return value for the month of January in 1998\n",
    "    3) Multiply it by the first closing price we have for 'aa' (Jan 2nd, 1998) and round to 4 decimal places\n",
    "    4) And compare that to the first closing price we have for February of 1998"
   ]
  },
  {
   "cell_type": "markdown",
   "metadata": {},
   "source": [
    "### Get variance of daily returns"
   ]
  },
  {
   "cell_type": "code",
   "execution_count": 23,
   "metadata": {
    "collapsed": false
   },
   "outputs": [],
   "source": [
    "dataframes = []\n",
    "for tic in closing_returns.columns.get_level_values(0):\n",
    "    dataframes.append(\n",
    "        pandas.concat({tic: \n",
    "            pandas.concat({'close_return_var':\n",
    "                daily_table[tic].close_return.groupby([daily_table.index.year, \n",
    "                                                       daily_table.index.month]).apply(lambda x: \n",
    "                                                                                           numpy.var(x))\n",
    "                          }, axis=1)}, axis=1))"
   ]
  },
  {
   "cell_type": "code",
   "execution_count": 24,
   "metadata": {
    "collapsed": false
   },
   "outputs": [],
   "source": [
    "monthly_ret_var = dataframes[0].join(dataframes[1:])"
   ]
  },
  {
   "cell_type": "markdown",
   "metadata": {},
   "source": [
    "### Monthly high, as a % of monthly average close"
   ]
  },
  {
   "cell_type": "code",
   "execution_count": 25,
   "metadata": {
    "collapsed": true
   },
   "outputs": [],
   "source": [
    "dataframes = []\n",
    "for tic in closing_returns.columns.get_level_values(0):\n",
    "    dataframes.append(\n",
    "        pandas.concat({tic: \n",
    "            pandas.concat({'high_monthly':\n",
    "                daily_table[tic].close.groupby([daily_table.index.year, \n",
    "                                                daily_table.index.month]).max().divide(\n",
    "                                                        monthly_table[tic].close)\n",
    "                          }, axis=1)}, axis=1))"
   ]
  },
  {
   "cell_type": "code",
   "execution_count": 26,
   "metadata": {
    "collapsed": true
   },
   "outputs": [],
   "source": [
    "monthly_high = (dataframes[0].join(dataframes[1:]))"
   ]
  },
  {
   "cell_type": "markdown",
   "metadata": {},
   "source": [
    "### Monthly low, as a % of monthly average close"
   ]
  },
  {
   "cell_type": "code",
   "execution_count": 27,
   "metadata": {
    "collapsed": true
   },
   "outputs": [],
   "source": [
    "dataframes = []\n",
    "for tic in closing_returns.columns.get_level_values(0):\n",
    "    dataframes.append(\n",
    "        pandas.concat({tic: \n",
    "            pandas.concat({'low_monthly':\n",
    "                daily_table[tic].close.groupby([daily_table.index.year, \n",
    "                                                daily_table.index.month]).min().divide(\n",
    "                                                        monthly_table[tic].close)\n",
    "                          }, axis=1)}, axis=1))"
   ]
  },
  {
   "cell_type": "code",
   "execution_count": 28,
   "metadata": {
    "collapsed": true
   },
   "outputs": [],
   "source": [
    "monthly_low = (dataframes[0].join(dataframes[1:]))"
   ]
  },
  {
   "cell_type": "markdown",
   "metadata": {},
   "source": [
    "### Combine"
   ]
  },
  {
   "cell_type": "code",
   "execution_count": 29,
   "metadata": {
    "collapsed": false
   },
   "outputs": [],
   "source": [
    "dataframes = []\n",
    "for tic in closing_returns.columns.get_level_values(0):\n",
    "    \n",
    "    dataframes.append(pandas.concat({\n",
    "                tic: monthly_table[tic].join(\n",
    "                        monthly_returns[tic]).join(\n",
    "                            monthly_ret_var[tic]).join(\n",
    "                                monthly_high[tic]).join(\n",
    "                                    monthly_low[tic])\n",
    "                }, axis=1))"
   ]
  },
  {
   "cell_type": "code",
   "execution_count": 30,
   "metadata": {
    "collapsed": true
   },
   "outputs": [],
   "source": [
    "monthly_table = dataframes[0].join(dataframes[1:])"
   ]
  },
  {
   "cell_type": "code",
   "execution_count": 31,
   "metadata": {
    "collapsed": false
   },
   "outputs": [
    {
     "data": {
      "text/html": [
       "<div>\n",
       "<table border=\"1\" class=\"dataframe\">\n",
       "  <thead>\n",
       "    <tr style=\"text-align: right;\">\n",
       "      <th></th>\n",
       "      <th></th>\n",
       "      <th>close</th>\n",
       "      <th>close_return</th>\n",
       "      <th>close_return_previous</th>\n",
       "      <th>open_to_close</th>\n",
       "      <th>intra_span</th>\n",
       "      <th>volume</th>\n",
       "      <th>volume_change</th>\n",
       "      <th>corr_other</th>\n",
       "      <th>return_monthly</th>\n",
       "      <th>close_return_var</th>\n",
       "      <th>high_monthly</th>\n",
       "      <th>low_monthly</th>\n",
       "    </tr>\n",
       "  </thead>\n",
       "  <tbody>\n",
       "    <tr>\n",
       "      <th rowspan=\"5\" valign=\"top\">1998</th>\n",
       "      <th>1</th>\n",
       "      <td>13.001770</td>\n",
       "      <td>0.004727</td>\n",
       "      <td>0.003860</td>\n",
       "      <td>0.002060</td>\n",
       "      <td>0.023501</td>\n",
       "      <td>5.295351e+06</td>\n",
       "      <td>0.166955</td>\n",
       "      <td>0.007549</td>\n",
       "      <td>1.094734</td>\n",
       "      <td>0.000383</td>\n",
       "      <td>1.100796</td>\n",
       "      <td>0.949471</td>\n",
       "    </tr>\n",
       "    <tr>\n",
       "      <th>2</th>\n",
       "      <td>14.031084</td>\n",
       "      <td>-0.004858</td>\n",
       "      <td>-0.001855</td>\n",
       "      <td>-0.001103</td>\n",
       "      <td>0.018260</td>\n",
       "      <td>3.665675e+06</td>\n",
       "      <td>0.165154</td>\n",
       "      <td>0.001046</td>\n",
       "      <td>0.910002</td>\n",
       "      <td>0.000184</td>\n",
       "      <td>1.041680</td>\n",
       "      <td>0.947931</td>\n",
       "    </tr>\n",
       "    <tr>\n",
       "      <th>3</th>\n",
       "      <td>13.463482</td>\n",
       "      <td>-0.001372</td>\n",
       "      <td>-0.002711</td>\n",
       "      <td>-0.003541</td>\n",
       "      <td>0.020624</td>\n",
       "      <td>4.244956e+06</td>\n",
       "      <td>0.064034</td>\n",
       "      <td>0.002662</td>\n",
       "      <td>0.967347</td>\n",
       "      <td>0.000272</td>\n",
       "      <td>1.037607</td>\n",
       "      <td>0.952993</td>\n",
       "    </tr>\n",
       "    <tr>\n",
       "      <th>4</th>\n",
       "      <td>13.977748</td>\n",
       "      <td>0.006396</td>\n",
       "      <td>0.005821</td>\n",
       "      <td>0.000265</td>\n",
       "      <td>0.020576</td>\n",
       "      <td>6.629143e+06</td>\n",
       "      <td>0.056076</td>\n",
       "      <td>0.001971</td>\n",
       "      <td>1.138813</td>\n",
       "      <td>0.000382</td>\n",
       "      <td>1.061702</td>\n",
       "      <td>0.911198</td>\n",
       "    </tr>\n",
       "    <tr>\n",
       "      <th>5</th>\n",
       "      <td>13.955640</td>\n",
       "      <td>-0.006089</td>\n",
       "      <td>-0.005222</td>\n",
       "      <td>-0.006265</td>\n",
       "      <td>0.016760</td>\n",
       "      <td>3.316375e+06</td>\n",
       "      <td>0.148095</td>\n",
       "      <td>-0.005262</td>\n",
       "      <td>0.884181</td>\n",
       "      <td>0.000094</td>\n",
       "      <td>1.052471</td>\n",
       "      <td>0.939255</td>\n",
       "    </tr>\n",
       "  </tbody>\n",
       "</table>\n",
       "</div>"
      ],
      "text/plain": [
       "            close  close_return  close_return_previous  open_to_close  \\\n",
       "1998 1  13.001770      0.004727               0.003860       0.002060   \n",
       "     2  14.031084     -0.004858              -0.001855      -0.001103   \n",
       "     3  13.463482     -0.001372              -0.002711      -0.003541   \n",
       "     4  13.977748      0.006396               0.005821       0.000265   \n",
       "     5  13.955640     -0.006089              -0.005222      -0.006265   \n",
       "\n",
       "        intra_span        volume  volume_change  corr_other  return_monthly  \\\n",
       "1998 1    0.023501  5.295351e+06       0.166955    0.007549        1.094734   \n",
       "     2    0.018260  3.665675e+06       0.165154    0.001046        0.910002   \n",
       "     3    0.020624  4.244956e+06       0.064034    0.002662        0.967347   \n",
       "     4    0.020576  6.629143e+06       0.056076    0.001971        1.138813   \n",
       "     5    0.016760  3.316375e+06       0.148095   -0.005262        0.884181   \n",
       "\n",
       "        close_return_var  high_monthly  low_monthly  \n",
       "1998 1          0.000383      1.100796     0.949471  \n",
       "     2          0.000184      1.041680     0.947931  \n",
       "     3          0.000272      1.037607     0.952993  \n",
       "     4          0.000382      1.061702     0.911198  \n",
       "     5          0.000094      1.052471     0.939255  "
      ]
     },
     "execution_count": 31,
     "metadata": {},
     "output_type": "execute_result"
    }
   ],
   "source": [
    "monthly_table.aa.head()"
   ]
  },
  {
   "cell_type": "markdown",
   "metadata": {},
   "source": [
    "# And that's it"
   ]
  },
  {
   "cell_type": "markdown",
   "metadata": {},
   "source": [
    "#### Notes:\n",
    "\n",
    "There are many other features we can build, but we have at least enough to get us started with a little modeling. "
   ]
  },
  {
   "cell_type": "markdown",
   "metadata": {},
   "source": [
    "# Output"
   ]
  },
  {
   "cell_type": "code",
   "execution_count": 32,
   "metadata": {
    "collapsed": false
   },
   "outputs": [],
   "source": [
    "daily_table.to_pickle(\"../output/daily_table.pkl\")"
   ]
  },
  {
   "cell_type": "code",
   "execution_count": 33,
   "metadata": {
    "collapsed": true
   },
   "outputs": [],
   "source": [
    "monthly_table.to_pickle(\"../output/monthly_table.pkl\")"
   ]
  },
  {
   "cell_type": "markdown",
   "metadata": {
    "collapsed": true
   },
   "source": [
    "#### Notes:\n",
    "\n",
    "Ouputting to .pkl format will work better than .csv for a large dataset like this. "
   ]
  },
  {
   "cell_type": "code",
   "execution_count": null,
   "metadata": {
    "collapsed": true
   },
   "outputs": [],
   "source": []
  }
 ],
 "metadata": {
  "kernelspec": {
   "display_name": "Python 3",
   "language": "python",
   "name": "python3"
  },
  "language_info": {
   "codemirror_mode": {
    "name": "ipython",
    "version": 3
   },
   "file_extension": ".py",
   "mimetype": "text/x-python",
   "name": "python",
   "nbconvert_exporter": "python",
   "pygments_lexer": "ipython3",
   "version": "3.5.1"
  }
 },
 "nbformat": 4,
 "nbformat_minor": 0
}
